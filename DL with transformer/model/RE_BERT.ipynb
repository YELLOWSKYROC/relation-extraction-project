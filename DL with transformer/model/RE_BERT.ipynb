{
  "cells": [
    {
      "cell_type": "code",
      "execution_count": null,
      "metadata": {
        "colab": {
          "base_uri": "https://localhost:8080/"
        },
        "id": "Y5yej-1ovufz",
        "outputId": "7c08664b-80dc-445b-b84b-2e2fb2536b41"
      },
      "outputs": [
        {
          "output_type": "stream",
          "name": "stdout",
          "text": [
            "Mounted at /content/Drive\n"
          ]
        }
      ],
      "source": [
        "from google.colab import drive\n",
        "drive.mount('/content/Drive')"
      ]
    },
    {
      "cell_type": "code",
      "execution_count": null,
      "metadata": {
        "colab": {
          "base_uri": "https://localhost:8080/"
        },
        "id": "NXGwQj2ZWqxu",
        "outputId": "df30b890-5a61-4fce-81e5-e5605cb3ca9a"
      },
      "outputs": [
        {
          "output_type": "stream",
          "name": "stdout",
          "text": [
            "Requirement already satisfied: torch in /usr/local/lib/python3.10/dist-packages (2.1.0+cu121)\n",
            "Requirement already satisfied: filelock in /usr/local/lib/python3.10/dist-packages (from torch) (3.13.1)\n",
            "Requirement already satisfied: typing-extensions in /usr/local/lib/python3.10/dist-packages (from torch) (4.10.0)\n",
            "Requirement already satisfied: sympy in /usr/local/lib/python3.10/dist-packages (from torch) (1.12)\n",
            "Requirement already satisfied: networkx in /usr/local/lib/python3.10/dist-packages (from torch) (3.2.1)\n",
            "Requirement already satisfied: jinja2 in /usr/local/lib/python3.10/dist-packages (from torch) (3.1.3)\n",
            "Requirement already satisfied: fsspec in /usr/local/lib/python3.10/dist-packages (from torch) (2023.6.0)\n",
            "Requirement already satisfied: triton==2.1.0 in /usr/local/lib/python3.10/dist-packages (from torch) (2.1.0)\n",
            "Requirement already satisfied: MarkupSafe>=2.0 in /usr/local/lib/python3.10/dist-packages (from jinja2->torch) (2.1.5)\n",
            "Requirement already satisfied: mpmath>=0.19 in /usr/local/lib/python3.10/dist-packages (from sympy->torch) (1.3.0)\n",
            "Requirement already satisfied: transformers in /usr/local/lib/python3.10/dist-packages (4.38.2)\n",
            "Requirement already satisfied: filelock in /usr/local/lib/python3.10/dist-packages (from transformers) (3.13.1)\n",
            "Requirement already satisfied: huggingface-hub<1.0,>=0.19.3 in /usr/local/lib/python3.10/dist-packages (from transformers) (0.20.3)\n",
            "Requirement already satisfied: numpy>=1.17 in /usr/local/lib/python3.10/dist-packages (from transformers) (1.25.2)\n",
            "Requirement already satisfied: packaging>=20.0 in /usr/local/lib/python3.10/dist-packages (from transformers) (23.2)\n",
            "Requirement already satisfied: pyyaml>=5.1 in /usr/local/lib/python3.10/dist-packages (from transformers) (6.0.1)\n",
            "Requirement already satisfied: regex!=2019.12.17 in /usr/local/lib/python3.10/dist-packages (from transformers) (2023.12.25)\n",
            "Requirement already satisfied: requests in /usr/local/lib/python3.10/dist-packages (from transformers) (2.31.0)\n",
            "Requirement already satisfied: tokenizers<0.19,>=0.14 in /usr/local/lib/python3.10/dist-packages (from transformers) (0.15.2)\n",
            "Requirement already satisfied: safetensors>=0.4.1 in /usr/local/lib/python3.10/dist-packages (from transformers) (0.4.2)\n",
            "Requirement already satisfied: tqdm>=4.27 in /usr/local/lib/python3.10/dist-packages (from transformers) (4.66.2)\n",
            "Requirement already satisfied: fsspec>=2023.5.0 in /usr/local/lib/python3.10/dist-packages (from huggingface-hub<1.0,>=0.19.3->transformers) (2023.6.0)\n",
            "Requirement already satisfied: typing-extensions>=3.7.4.3 in /usr/local/lib/python3.10/dist-packages (from huggingface-hub<1.0,>=0.19.3->transformers) (4.10.0)\n",
            "Requirement already satisfied: charset-normalizer<4,>=2 in /usr/local/lib/python3.10/dist-packages (from requests->transformers) (3.3.2)\n",
            "Requirement already satisfied: idna<4,>=2.5 in /usr/local/lib/python3.10/dist-packages (from requests->transformers) (3.6)\n",
            "Requirement already satisfied: urllib3<3,>=1.21.1 in /usr/local/lib/python3.10/dist-packages (from requests->transformers) (2.0.7)\n",
            "Requirement already satisfied: certifi>=2017.4.17 in /usr/local/lib/python3.10/dist-packages (from requests->transformers) (2024.2.2)\n",
            "Requirement already satisfied: tqdm in /usr/local/lib/python3.10/dist-packages (4.66.2)\n"
          ]
        }
      ],
      "source": [
        "!pip install torch\n",
        "!pip install transformers\n",
        "!pip install tqdm"
      ]
    },
    {
      "cell_type": "code",
      "execution_count": null,
      "metadata": {
        "id": "4NHSnwIXv0na"
      },
      "outputs": [],
      "source": [
        "import json\n",
        "import random\n",
        "import torch\n",
        "import json\n",
        "import numpy as np\n",
        "import torch.nn as nn\n",
        "import torch.nn.functional as F\n",
        "import torch.optim as optim\n",
        "import torch.autograd as autograd\n",
        "import torch.nn.functional\n",
        "\n",
        "from tqdm import tqdm\n",
        "from sklearn.metrics import f1_score\n",
        "from sklearn.metrics import precision_score, recall_score\n",
        "from torch.utils.data import Dataset, DataLoader\n",
        "from sklearn.preprocessing import MinMaxScaler\n",
        "from transformers import BertForSequenceClassification, BertTokenizer, BertModel"
      ]
    },
    {
      "cell_type": "code",
      "execution_count": null,
      "metadata": {
        "id": "yeH_1AYRDb8U"
      },
      "outputs": [],
      "source": [
        "# List of relation types\n",
        "keys = ['no_relation', 'per:title', 'org:top_members/employees',\n",
        "        'org:country_of_headquarters', 'per:parents', 'per:age',\n",
        "        'per:countries_of_residence', 'per:children', 'org:alternate_names',\n",
        "        'per:charges', 'per:cities_of_residence', 'per:origin', 'org:founded_by',\n",
        "        'per:employee_of', 'per:siblings', 'per:alternate_names', 'org:website',\n",
        "        'per:religion', 'per:stateorprovince_of_death', 'org:parents',\n",
        "        'org:subsidiaries', 'per:other_family', 'per:stateorprovinces_of_residence',\n",
        "        'org:members', 'per:cause_of_death', 'org:member_of',\n",
        "        'org:number_of_employees/members', 'per:country_of_birth',\n",
        "        'org:shareholders', 'org:stateorprovince_of_headquarters',\n",
        "        'per:city_of_death', 'per:date_of_birth', 'per:spouse',\n",
        "        'org:city_of_headquarters', 'per:date_of_death', 'per:schools_attended',\n",
        "        'org:political/religious_affiliation', 'per:country_of_death',\n",
        "        'org:founded', 'per:stateorprovince_of_birth', 'per:city_of_birth',\n",
        "        'org:dissolved']\n",
        "\n",
        "# Assigning indices to the list elements and storing them in a dictionary\n",
        "rel2id = {key: idx for idx, key in enumerate(keys)}\n",
        "id2rel = {idx: key for key, idx in rel2id.items()}\n",
        "\n",
        "# # Printing the dictionaries\n",
        "# print(rel2id)\n",
        "# print(id2rel)"
      ]
    },
    {
      "cell_type": "code",
      "execution_count": null,
      "metadata": {
        "colab": {
          "base_uri": "https://localhost:8080/"
        },
        "id": "GeCpDEwQWqxw",
        "outputId": "13c65577-5f48-40bf-a9d7-b9e30cd59f91"
      },
      "outputs": [
        {
          "output_type": "stream",
          "name": "stdout",
          "text": [
            "No GPU available, using the CPU instead.\n",
            "using CPU\n"
          ]
        }
      ],
      "source": [
        "# tell pytorch to use the gpu if available\n",
        "if torch.cuda.is_available():\n",
        "\n",
        "    DEVICE = torch.device(\"cuda\")\n",
        "\n",
        "    print('There are %d GPU(s) available.' % torch.cuda.device_count())\n",
        "\n",
        "    print('We will use the GPU:', torch.cuda.get_device_name(0))\n",
        "\n",
        "# If not\n",
        "else:\n",
        "    print('No GPU available, using the CPU instead.')\n",
        "    DEVICE = torch.device(\"cpu\")\n",
        "\n",
        "USE_CUDA = torch.cuda.is_available()\n",
        "if USE_CUDA:\n",
        "    print(\"using GPU\")\n",
        "else:\n",
        "    print(\"using CPU\")\n",
        "\n",
        "device = torch.device(\"cuda\" if torch.cuda.is_available() else \"cpu\")"
      ]
    },
    {
      "cell_type": "code",
      "execution_count": null,
      "metadata": {
        "colab": {
          "base_uri": "https://localhost:8080/",
          "height": 162,
          "referenced_widgets": [
            "867c49e3150044fc93c5edacfc363b76",
            "602945d0e48247b5a1d1367ba51a8c7e",
            "a1eaabe5826043cabde24cd5624fc51c",
            "64917c047c044feea0716cc8850faeff",
            "cc4a1edcd08545939ed50e3393dd8b4d",
            "cedd7d7bf3d04272993dc819dbac1d9c",
            "ac0ad0f213f24e408cf5eb2911f35f0f",
            "163494d9910241b7bfe231be59f59e9b",
            "6548f491b1954f179a67ce6310c5cfe3",
            "998e9c8b6f194dff87ab5d28cc4cef5a",
            "0499b05abf554a9cba77254363ad7b2f",
            "b871f08e1c514b3d8b048ae4b2a85881",
            "0de813fdeee04fef95ae911c3aea0801",
            "00589bf133fc42ffa7084b6dadeb3720",
            "cf27df246a964a0098cd914987837cf1",
            "ce60acd0ceeb4bbb92d66a3e04af185e",
            "15b200dcf8d14486bf4dec07727883c7",
            "51a3baaf1f4142eb83ee272f9566f919",
            "ac0afd372e1d4072b17bad4ad381c35e",
            "ec5c7ea3571645508eb54d63eff62405",
            "0ed7f33c7fec4424be168caf625a865f",
            "6587b1d32966479e9e77795867bc02e0",
            "b52f8dfbac5a44d295e33d08f02bada1",
            "0f1808591a4c4dbca3e1656865d3c863",
            "524d8de0aea641689ab979b7140ccd3a",
            "4dc4ef373f6e46dcaec0075e75cd2c59",
            "ef007043210a444380287aca839d956b",
            "4cc530bf63f246b6928357135d011c64",
            "44716172a64840c288424f6dd2907feb",
            "9ebc81db64fd48f39022bd68a7341e0c",
            "2c8ddae7ab66400a95a0f792cb0c398f",
            "607dc8b2bc1a40c6a9d4ba6a498370fe",
            "23201b36befb4ecc8883837ce4a3fd97",
            "fac8697c7bde41a9a2aa44372ebf3f9e",
            "e76cc141091f4256bb16eba8cec49339",
            "dcac27fe4de245f1a485859d8ac9e4a1",
            "973e2ca90b3e438a9e27684c2cb95009",
            "fbfc1532387f4c2cad6056ead8270502",
            "42961d034b1845dd87462b062ff660a0",
            "b489b3ecc0a840f8ab57fc342d8c2299",
            "5b9b3b8f244c49a1a68c79fab4ee71a1",
            "f45c16b76be54b21923b1d4146685fd7",
            "460809dcbcb841b9b9c9f1b4c52dec8a",
            "c05e06104406486483a852d6ea5f5627"
          ]
        },
        "id": "pdQ53yi8Wqxw",
        "outputId": "f191b659-26eb-460e-cc92-4cb46622e7d3"
      },
      "outputs": [
        {
          "output_type": "display_data",
          "data": {
            "text/plain": [
              "tokenizer_config.json:   0%|          | 0.00/48.0 [00:00<?, ?B/s]"
            ],
            "application/vnd.jupyter.widget-view+json": {
              "version_major": 2,
              "version_minor": 0,
              "model_id": "867c49e3150044fc93c5edacfc363b76"
            }
          },
          "metadata": {}
        },
        {
          "output_type": "display_data",
          "data": {
            "text/plain": [
              "vocab.txt:   0%|          | 0.00/232k [00:00<?, ?B/s]"
            ],
            "application/vnd.jupyter.widget-view+json": {
              "version_major": 2,
              "version_minor": 0,
              "model_id": "b871f08e1c514b3d8b048ae4b2a85881"
            }
          },
          "metadata": {}
        },
        {
          "output_type": "display_data",
          "data": {
            "text/plain": [
              "tokenizer.json:   0%|          | 0.00/466k [00:00<?, ?B/s]"
            ],
            "application/vnd.jupyter.widget-view+json": {
              "version_major": 2,
              "version_minor": 0,
              "model_id": "b52f8dfbac5a44d295e33d08f02bada1"
            }
          },
          "metadata": {}
        },
        {
          "output_type": "display_data",
          "data": {
            "text/plain": [
              "config.json:   0%|          | 0.00/570 [00:00<?, ?B/s]"
            ],
            "application/vnd.jupyter.widget-view+json": {
              "version_major": 2,
              "version_minor": 0,
              "model_id": "fac8697c7bde41a9a2aa44372ebf3f9e"
            }
          },
          "metadata": {}
        },
        {
          "output_type": "stream",
          "name": "stdout",
          "text": [
            "BERT tokenizer loaded\n"
          ]
        }
      ],
      "source": [
        "#BERT tokenizer\n",
        "tokenizer = BertTokenizer.from_pretrained(\"bert-base-uncased\", do_lower_case=True)\n",
        "print('BERT tokenizer loaded')"
      ]
    },
    {
      "cell_type": "code",
      "execution_count": null,
      "metadata": {
        "id": "6No8Wu6SN95j"
      },
      "outputs": [],
      "source": [
        "\"\"\"\n",
        "By setting the same seed, it ensures that the same sequence of random numbers is generated\n",
        "each time the program is run, thus making the experimental results reproducible and aiding\n",
        "in debugging and verifying the robustness of the model.\n",
        "\"\"\"\n",
        "\n",
        "def setup_seed(seed):\n",
        "    # Sets the seed for generating random numbers for the CPU.\n",
        "\n",
        "    # Sets the seed for generating random numbers for all GPUs.\n",
        "    torch.cuda.manual_seed_all(seed)\n",
        "\n",
        "    # Sets the seed for generating random numbers with NumPy.\n",
        "    np.random.seed(seed)\n",
        "\n",
        "    # Sets the seed for the built-in Python random module.\n",
        "    random.seed(seed)\n",
        "\n",
        "setup_seed(44)"
      ]
    },
    {
      "cell_type": "code",
      "execution_count": null,
      "metadata": {
        "id": "xTmRuAmIv04k"
      },
      "outputs": [],
      "source": [
        "def load_tacred_dataset(file_path):\n",
        "    \"\"\"\n",
        "    Load the TACRED dataset from a JSON file.\n",
        "\n",
        "    Args:\n",
        "    file_path (str): The path to the JSON file containing the dataset.\n",
        "\n",
        "    Returns:\n",
        "    dict: The loaded dataset.\n",
        "    \"\"\"\n",
        "    with open(file_path, 'r') as file:\n",
        "        data = json.load(file)\n",
        "    return data"
      ]
    },
    {
      "cell_type": "markdown",
      "source": [
        "Our data preprocessing function `prepare_data(data)` plays a key role in natural language processing tasks. This function takes raw data and converts it into an easy-to-process format. It goes through each data instance, extracts the start and end index of the entity, extracts the entity text from it, and then gets the relationship label. It then combines words from the original text into sentences and organizes this processed information into dictionary form. Ultimately, it adds the dictionary of each data instance to a list and returns the list as output. This function not only provides the function of data format conversion, but also facilitates subsequent model training and text analysis."
      ],
      "metadata": {
        "id": "tGrm37FUaIQM"
      }
    },
    {
      "cell_type": "code",
      "execution_count": null,
      "metadata": {
        "id": "vLsXtBwYv1EN"
      },
      "outputs": [],
      "source": [
        "def prepare_data(data):\n",
        "    # Get the number of instances in the data\n",
        "    n = len(data)\n",
        "\n",
        "    # Initialize an empty list to store processed data\n",
        "    info = []\n",
        "\n",
        "    # Iterate through each instance in the data\n",
        "    for i in range(n):\n",
        "        # Initialize an empty dictionary for storing processed information of a single data instance\n",
        "        single_data = {}\n",
        "\n",
        "        # Extract start and end indices of subject and object entities\n",
        "        ss = data[i][\"subj_start\"]\n",
        "        se = data[i][\"subj_end\"]\n",
        "        os = data[i][\"obj_start\"]\n",
        "        oe = data[i][\"obj_end\"]\n",
        "\n",
        "        # Extract subject and object tokens based on their start and end indices\n",
        "        subj = data[i]['token'][ss: se+1]\n",
        "        obj = data[i]['token'][os: oe+1]\n",
        "\n",
        "        # Convert subject and object tokens into strings\n",
        "        ent1 = ' '.join(subj)\n",
        "        ent2 = ' '.join(obj)\n",
        "\n",
        "        # Extract relation label\n",
        "        rel = data[i][\"relation\"]\n",
        "\n",
        "        # Concatenate all tokens to form the original sentence\n",
        "        text = \" \".join(data[i][\"token\"])\n",
        "\n",
        "        # Store processed information in the dictionary\n",
        "        single_data['rel'] = rel\n",
        "        single_data['ent1'] = ent1\n",
        "        single_data['ent2'] = ent2\n",
        "        single_data['text'] = text\n",
        "\n",
        "        # Append processed information of a single data instance to the list\n",
        "        info.append(single_data)\n",
        "\n",
        "    # Return the processed data\n",
        "    return info"
      ]
    },
    {
      "cell_type": "markdown",
      "source": [
        "The `process_relation_extraction_data(info, max_length=64)` function plays a vital role in the relationship extraction task. This function is used to process raw data and prepare it into a format suitable for model input. First, the function traverses the provided data information and integrates entities, text information, and relationship tags. For each data instance, the function will splice the entity and text information into a sentence, and perform word segmentation and filling operations. Next, the sentences are tokenized by adding special tags. The function truncates or pads sentences according to the given maximum length to ensure consistent sentence lengths. Finally, the function adds the processed sentences and their corresponding attention masks to the output data. In this way, we are able to transform the raw data into a form suitable for model training and prepare it for further relationship extraction tasks."
      ],
      "metadata": {
        "id": "3bYt8XDJaTtW"
      }
    },
    {
      "cell_type": "code",
      "execution_count": null,
      "metadata": {
        "id": "pD96gM1FDb--"
      },
      "outputs": [],
      "source": [
        "def process_relation_extraction_data(info, max_length=64):\n",
        "    # Initialize a dictionary to store processed data\n",
        "    data = {}\n",
        "    data['label'] = []  # List to store relation labels\n",
        "    data['mask'] = []   # List to store attention masks\n",
        "    data['text'] = []   # List to store tokenized and padded texts\n",
        "\n",
        "    # Iterate through each instance in the provided 'info' data\n",
        "    for line in info:\n",
        "        # Check if the relation label is present in the 'rel2id' dictionary\n",
        "        if line['rel'] not in rel2id:\n",
        "            # If the relation label is not found, assign label 0 (for unknown relation)\n",
        "            data['label'].append(0)\n",
        "        else:\n",
        "            # If the relation label is found, assign its corresponding index\n",
        "            data['label'].append(rel2id[line['rel']])\n",
        "\n",
        "        # Concatenate subject, object, and text to form a single sentence\n",
        "        sent = line['ent1'] + line['ent2'] + line['text']\n",
        "\n",
        "        # Tokenize the concatenated sentence and add special tokens\n",
        "        indexed_tokens = tokenizer.encode(sent, add_special_tokens=True)\n",
        "\n",
        "        # Determine the available length of the tokenized sentence\n",
        "        avai_len = len(indexed_tokens)\n",
        "\n",
        "        # Pad the tokenized sentence with 0s to match the maximum length\n",
        "        while len(indexed_tokens) < max_length:\n",
        "            indexed_tokens.append(0)\n",
        "\n",
        "        # Trim the tokenized sentence to the maximum length\n",
        "        indexed_tokens = indexed_tokens[:max_length]\n",
        "\n",
        "        # Convert the tokenized sentence to a PyTorch tensor\n",
        "        indexed_tokens = torch.tensor(indexed_tokens).long().unsqueeze(0)  # (1, L)\n",
        "\n",
        "        # Create an attention mask for the tokenized sentence\n",
        "        att_mask = torch.zeros(indexed_tokens.size()).long()  # (1, L)\n",
        "        att_mask[0, :avai_len] = 1\n",
        "\n",
        "        # Append the tokenized and padded sentence, and its attention mask to the data dictionary\n",
        "        data['text'].append(indexed_tokens)\n",
        "        data['mask'].append(att_mask)\n",
        "\n",
        "    return data"
      ]
    },
    {
      "cell_type": "code",
      "execution_count": null,
      "metadata": {
        "id": "PzQFV-rpWqxx"
      },
      "outputs": [],
      "source": [
        "def convert_data_to_tensors(data):\n",
        "    # Extract text, mask, and label from the data\n",
        "    text = data['text']\n",
        "    mask = data['mask']\n",
        "    label = data['label']\n",
        "\n",
        "    # Convert text and mask tensors to numpy arrays\n",
        "    text = [t.numpy() for t in text]\n",
        "    mask = [t.numpy() for t in mask]\n",
        "\n",
        "    # Convert numpy arrays to PyTorch tensors\n",
        "    text = torch.tensor(text)\n",
        "    mask = torch.tensor(mask)\n",
        "    label = torch.tensor(label)\n",
        "\n",
        "    return text, mask, label"
      ]
    },
    {
      "cell_type": "markdown",
      "source": [
        "The `BERT_Classifier` class implements a BERT-based classifier for relation extraction tasks. The model utilizes pre-trained BERT encoder to extract text features and perform classification through fully connected layers. During the initialization process, the pretrained BERT model is loaded by calling the `from_pretrained` method, and a fully connected layer containing `label_num` output categories is defined. The model also includes a dropout layer to prevent overfitting and uses cross-entropy loss as the loss function for classification.\n",
        "\n",
        "In the forward propagation process, the input data passes through the BERT encoder to obtain text feature representation, and then is classified through the fully connected layer. The final output is the class probability distribution predicted by the model. If a label is provided, the model computes the cross-entropy loss and returns the loss value and the predicted probability distribution; otherwise, only the predicted probability distribution is returned.\n",
        "\n",
        "When in use, we can initialize the model according to specific tasks and number of labels, and move it to a designated computing device (such as GPU). Use `labels_num=len(rel2id)` to get the number of relationship labels and create the corresponding model instance."
      ],
      "metadata": {
        "id": "U9_BRNjJaca6"
      }
    },
    {
      "cell_type": "code",
      "execution_count": null,
      "metadata": {
        "id": "6BasTmByTlLF",
        "colab": {
          "base_uri": "https://localhost:8080/"
        },
        "outputId": "a3a28b87-88ce-40d9-b518-d99d311ec50b"
      },
      "outputs": [
        {
          "output_type": "execute_result",
          "data": {
            "text/plain": [
              "BERT_Classifier(\n",
              "  (encoder): BertModel(\n",
              "    (embeddings): BertEmbeddings(\n",
              "      (word_embeddings): Embedding(30522, 768, padding_idx=0)\n",
              "      (position_embeddings): Embedding(512, 768)\n",
              "      (token_type_embeddings): Embedding(2, 768)\n",
              "      (LayerNorm): LayerNorm((768,), eps=1e-12, elementwise_affine=True)\n",
              "      (dropout): Dropout(p=0.1, inplace=False)\n",
              "    )\n",
              "    (encoder): BertEncoder(\n",
              "      (layer): ModuleList(\n",
              "        (0-11): 12 x BertLayer(\n",
              "          (attention): BertAttention(\n",
              "            (self): BertSelfAttention(\n",
              "              (query): Linear(in_features=768, out_features=768, bias=True)\n",
              "              (key): Linear(in_features=768, out_features=768, bias=True)\n",
              "              (value): Linear(in_features=768, out_features=768, bias=True)\n",
              "              (dropout): Dropout(p=0.1, inplace=False)\n",
              "            )\n",
              "            (output): BertSelfOutput(\n",
              "              (dense): Linear(in_features=768, out_features=768, bias=True)\n",
              "              (LayerNorm): LayerNorm((768,), eps=1e-12, elementwise_affine=True)\n",
              "              (dropout): Dropout(p=0.1, inplace=False)\n",
              "            )\n",
              "          )\n",
              "          (intermediate): BertIntermediate(\n",
              "            (dense): Linear(in_features=768, out_features=3072, bias=True)\n",
              "            (intermediate_act_fn): GELUActivation()\n",
              "          )\n",
              "          (output): BertOutput(\n",
              "            (dense): Linear(in_features=3072, out_features=768, bias=True)\n",
              "            (LayerNorm): LayerNorm((768,), eps=1e-12, elementwise_affine=True)\n",
              "            (dropout): Dropout(p=0.1, inplace=False)\n",
              "          )\n",
              "        )\n",
              "      )\n",
              "    )\n",
              "    (pooler): BertPooler(\n",
              "      (dense): Linear(in_features=768, out_features=768, bias=True)\n",
              "      (activation): Tanh()\n",
              "    )\n",
              "  )\n",
              "  (dropout): Dropout(p=0.1, inplace=False)\n",
              "  (fc): Linear(in_features=768, out_features=42, bias=True)\n",
              "  (criterion): CrossEntropyLoss()\n",
              ")"
            ]
          },
          "metadata": {},
          "execution_count": 18
        }
      ],
      "source": [
        "class BERT_Classifier(nn.Module):\n",
        "    def __init__(self, label_num):\n",
        "        super().__init__()\n",
        "        # Initialize the BERT encoder from pre-trained weights\n",
        "        self.encoder = BertModel.from_pretrained('bert-base-uncased')\n",
        "        # Dropout layer to prevent overfitting\n",
        "        self.dropout = nn.Dropout(0.1, inplace=False)\n",
        "        # Fully connected layer for classification\n",
        "        self.fc = nn.Linear(768, label_num)  # 768 is the hidden size of BERT\n",
        "        # Cross-entropy loss criterion\n",
        "        self.criterion = nn.CrossEntropyLoss()\n",
        "\n",
        "    def forward(self, x, attention_mask, label=None):\n",
        "        # Pass the input through the BERT encoder\n",
        "        x = self.encoder(x, attention_mask=attention_mask)[0]  # Output is tuple (last_hidden_state, pooler_output), we take the last_hidden_state\n",
        "        # Take only the first token's output (CLS token)\n",
        "        x = x[:, 0, :]\n",
        "        # Apply dropout\n",
        "        x = self.dropout(x)\n",
        "        # Pass through the fully connected layer\n",
        "        x = self.fc(x)\n",
        "        # If label is not provided, return logits only\n",
        "        if label is None:\n",
        "            return None, x\n",
        "        else:\n",
        "            # Calculate the cross-entropy loss and return both loss and logits\n",
        "            return self.criterion(x, label), x\n",
        "\n",
        "labels_num=len(rel2id)\n",
        "model = BERT_Classifier(labels_num)\n",
        "model.to(device)"
      ]
    },
    {
      "cell_type": "markdown",
      "source": [
        "The `train` function is an important tool for model training. It receives a neural network model, a training data set, a validation data set, and some hyperparameters such as the number of training epochs, learning rate, and batch size. During training, this function sets the model to training mode and uses stochastic gradient descent (SGD) as the optimizer. It iterates over the training data set, performing forward propagation, computing loss, back propagation, and parameter updates in each batch. At the same time, it monitors the loss and accuracy of the model in real time, and uses the tqdm library to display the training progress. At the end of each cycle, this function calculates the accuracy, loss, F1 score and other evaluation indicators of the model on the training set and validation set, and prints out these indicators.\n",
        "\n",
        "Additionally, at the end of each epoch, the function calls the `eval` function to evaluate the model on the validation set. After training is completed, the model status will be saved to a .pth file for subsequent model application or further training. Overall, the `train` function is a core tool for completing model training and monitoring performance.\n",
        "\n",
        "In the `train` function, in addition to monitoring the loss and accuracy of the model, the F1 score is also used as an evaluation metric for model performance. At the end of each training cycle, the model's accuracy, loss, and F1 score under three different weighting methods on the training set and validation set were calculated: macro average (macro), micro average (micro), and weighted average (weighted ).\n",
        "\n",
        "The F1 score is an indicator that combines the precision and recall of the model. It comprehensively evaluates the imbalanced class distribution and classifier effect. It is calculated as the harmonic mean of precision and recall, which can be used to evaluate the performance of the model in multi-classification tasks. During this training process, three different ways of calculating F1 scores were used to comprehensively evaluate the model's performance on different categories.\n",
        "\n",
        "Specifically, when calculating these evaluation indicators, the `f1_score` function is used, in which the `average` parameter is set to `'macro'`, `'micro'` and `'weighted'` respectively to calculate the macro average, micro Average and weighted average F1 scores. These F1 scores provide an assessment of model performance at different levels, helping to better understand how the model performs in classification tasks."
      ],
      "metadata": {
        "id": "zVCk2pGRatGA"
      }
    },
    {
      "cell_type": "code",
      "execution_count": null,
      "metadata": {
        "id": "qAyTlPuuU_7m"
      },
      "outputs": [],
      "source": [
        "def train(net, train_dataset, dev_dataset, num_epochs, learning_rate, batch_size):\n",
        "\n",
        "    # Set the network to training mode\n",
        "    net.train()\n",
        "\n",
        "    # Define the optimizer\n",
        "    optimizer = optim.SGD(net.parameters(), lr=learning_rate, weight_decay=0)\n",
        "\n",
        "    # Create a data loader for training data\n",
        "    train_iter = torch.utils.data.DataLoader(train_dataset, batch_size, shuffle=True)\n",
        "\n",
        "    # Lists to store metrics\n",
        "    epoch_losses = []\n",
        "    epoch_accuracies = []\n",
        "\n",
        "    for epoch in range(num_epochs):\n",
        "\n",
        "        print('Training...')\n",
        "\n",
        "        correct = 0\n",
        "        total = 0\n",
        "        iter = 0\n",
        "        all_pred = []\n",
        "        all_true = []\n",
        "\n",
        "        # Initialize tqdm to show progress bar\n",
        "        progress_bar = tqdm(train_iter, desc=f'Epoch {epoch + 1}/{num_epochs}', unit='batch')\n",
        "\n",
        "        for text, mask, y in progress_bar:\n",
        "            iter += 1\n",
        "            optimizer.zero_grad()\n",
        "\n",
        "            # If the batch size is not equal to the specified batch size, break the loop\n",
        "            if text.size(0) != batch_size:\n",
        "                break\n",
        "\n",
        "            # Reshape text and mask tensors\n",
        "            text = text.reshape(batch_size, -1)\n",
        "            mask = mask.reshape(batch_size, -1)\n",
        "\n",
        "            # Move tensors to GPU if available\n",
        "            if USE_CUDA:\n",
        "                text = text.cuda()\n",
        "                mask = mask.cuda()\n",
        "                y = y.cuda()\n",
        "\n",
        "            # Forward pass\n",
        "            loss, logits = net(text, mask, y)\n",
        "\n",
        "            # Backpropagation\n",
        "            loss.backward()\n",
        "            optimizer.step()\n",
        "\n",
        "            # Compute accuracy\n",
        "            _, predicted = torch.max(logits.data, 1)\n",
        "            total += text.size(0)\n",
        "            correct += predicted.data.eq(y.data).cpu().sum()\n",
        "\n",
        "            # Collect predictions and true labels\n",
        "            all_pred.extend(predicted.cpu().numpy())\n",
        "            all_true.extend(y.cpu().numpy())\n",
        "\n",
        "            # Update progress bar\n",
        "            progress_bar.set_postfix({'loss': loss.item(), 'accuracy': correct.item() / total})\n",
        "\n",
        "        # After the end of each epoch, compute metrics\n",
        "        accuracy = correct.cpu().numpy().tolist()/total\n",
        "        loss = loss.detach().cpu()\n",
        "\n",
        "        epoch_losses.append(loss)\n",
        "        epoch_accuracies.append(accuracy)\n",
        "\n",
        "        # Compute F1 scores\n",
        "        macro_f1 = f1_score(all_true, all_pred, average='macro')\n",
        "        micro_f1 = f1_score(all_true, all_pred, average='micro')\n",
        "        weighted_f1 = f1_score(all_true, all_pred, average='weighted')\n",
        "\n",
        "        # Print metrics\n",
        "        print(f\"Epoch {epoch + 1}/{num_epochs}\")\n",
        "        print(f\"Loss: {loss.mean().numpy().tolist()}, Accuracy: {accuracy}\")\n",
        "        print(f\"Macro F1: {macro_f1}, Micro F1: {micro_f1}, Weighted F1: {weighted_f1}\")\n",
        "\n",
        "        print(\"Validation...\")\n",
        "\n",
        "        dev_acc, dev_macro_f1, dev_micro_f1, dev_weighted_f1, precision_list, recall_list= eval(net, dev_dataset, batch_size)\n",
        "\n",
        "        print()\n",
        "\n",
        "    # torch.save(accuracy, str(accuracy)+'.pth')\n",
        "\n",
        "    torch.save(model.state_dict(), 'BERT_EX1_80_model.pth')\n",
        "\n",
        "    return epoch_losses, epoch_accuracies\n"
      ]
    },
    {
      "cell_type": "code",
      "execution_count": null,
      "metadata": {
        "id": "srM8MusrWqxy"
      },
      "outputs": [],
      "source": [
        "def eval(net, dataset, batch_size):\n",
        "    # Set the network to evaluation mode\n",
        "    net.eval()\n",
        "\n",
        "    # Create an iterator for the evaluation dataset\n",
        "    eval_iter = DataLoader(dataset, batch_size, shuffle=False)\n",
        "\n",
        "    # Lists to store predictions and true labels\n",
        "    all_pred = []\n",
        "    all_true = []\n",
        "\n",
        "    # Lists to store evaluation metrics\n",
        "    acc_list = []\n",
        "    macro_f1_list = []\n",
        "    micro_f1_list = []\n",
        "    weighted_f1_list = []\n",
        "    precision_list = []  # List to store precision scores\n",
        "    recall_list = []     # List to store recall scores\n",
        "\n",
        "    with torch.no_grad():\n",
        "        correct = 0  # Counter for correctly classified samples\n",
        "        total = 0    # Counter for total samples\n",
        "        # Progress bar for visualization during evaluation\n",
        "        progress_bar = tqdm(eval_iter, desc='Evaluation', unit='batch')\n",
        "\n",
        "        # Iterate through each batch in the evaluation dataset\n",
        "        for text, mask, y in progress_bar:\n",
        "            # If the batch size is not as expected, break the loop\n",
        "            if text.size(0) != batch_size:\n",
        "                break\n",
        "\n",
        "            # Reshape text and mask tensors\n",
        "            text = text.reshape(batch_size, -1)\n",
        "            mask = mask.reshape(batch_size, -1)\n",
        "\n",
        "            # Move tensors to GPU if available\n",
        "            if USE_CUDA:\n",
        "                text, mask, y = text.cuda(), mask.cuda(), y.cuda()\n",
        "\n",
        "            # Forward pass through the network\n",
        "            outputs = net(text, mask)\n",
        "            # Unpack outputs if it's a tuple (contains both loss and logits)\n",
        "            loss, logits = outputs if isinstance(outputs, tuple) else (None, outputs)\n",
        "\n",
        "            # Calculate predicted labels\n",
        "            _, predicted = torch.max(logits, 1)\n",
        "            # Update total and correct counts\n",
        "            total += y.size(0)\n",
        "            correct += (predicted == y).sum().item()\n",
        "\n",
        "            # Store predicted and true labels for computing F1 score later\n",
        "            all_pred.extend(predicted.cpu().numpy())\n",
        "            all_true.extend(y.cpu().numpy())\n",
        "\n",
        "            # Calculate accuracy for the current batch\n",
        "            accuracy = correct / total\n",
        "            progress_bar.set_postfix({'accuracy': accuracy})\n",
        "\n",
        "        # Calculate overall accuracy\n",
        "        acc = correct / total\n",
        "        # Calculate F1 scores\n",
        "        macro_f1 = f1_score(all_true, all_pred, average='macro')\n",
        "        micro_f1 = f1_score(all_true, all_pred, average='micro')\n",
        "        weighted_f1 = f1_score(all_true, all_pred, average='weighted')\n",
        "        # Calculate precision and recall\n",
        "        precision = precision_score(all_true, all_pred, average='macro')\n",
        "        recall = recall_score(all_true, all_pred, average='macro')\n",
        "\n",
        "        # Append metrics to respective lists\n",
        "        acc_list.append(acc)\n",
        "        macro_f1_list.append(macro_f1)\n",
        "        micro_f1_list.append(micro_f1)\n",
        "        weighted_f1_list.append(weighted_f1)\n",
        "        precision_list.append(precision)\n",
        "        recall_list.append(recall)\n",
        "\n",
        "        # Print evaluation results\n",
        "        print(f\"Eval Result: right {correct}, total {total}, Acc: {acc:.4f}\")\n",
        "        print(f\"Macro F1: {macro_f1:.4f}, Micro F1: {micro_f1:.4f}, Weighted F1: {weighted_f1:.4f}\")\n",
        "        print(f\"Precision: {precision:.4f}, Recall: {recall:.4f}\")\n",
        "\n",
        "        # Return evaluation metrics lists\n",
        "        return acc_list, macro_f1_list, micro_f1_list, weighted_f1_list, precision_list, recall_list\n"
      ]
    },
    {
      "cell_type": "code",
      "execution_count": null,
      "metadata": {
        "id": "GxJrdSDTv07h"
      },
      "outputs": [],
      "source": [
        "# Load data from JSON file\n",
        "train_data = load_tacred_dataset('/home/featurize/data/different_size_dataset/80/train_80%.json')\n",
        "dev_data = load_tacred_dataset('/home/featurize/data/TACRED/dev.json')\n",
        "test_data = load_tacred_dataset('/home/featurize/data/TACRED/test.json')"
      ]
    },
    {
      "cell_type": "code",
      "execution_count": null,
      "metadata": {
        "id": "MN2PJFW2v1HN",
        "outputId": "f05a182b-4a23-4d52-9db1-0818fbe915cd"
      },
      "outputs": [
        {
          "name": "stdout",
          "output_type": "stream",
          "text": [
            "54496\n",
            "22631\n",
            "15509\n"
          ]
        }
      ],
      "source": [
        "# ent1+ent2+text dataset\n",
        "train_info = prepare_data(train_data)\n",
        "dev_info = prepare_data(dev_data)\n",
        "test_info = prepare_data(test_data)\n",
        "\n",
        "print(len(train_info))\n",
        "print(len(dev_info))\n",
        "print(len(test_info))"
      ]
    },
    {
      "cell_type": "code",
      "execution_count": null,
      "metadata": {
        "id": "zpwOfzpzOiEf",
        "outputId": "fa763aaa-e1dd-4a07-b2ca-73e8780c38f8"
      },
      "outputs": [
        {
          "name": "stdout",
          "output_type": "stream",
          "text": [
            "54496\n",
            "22631\n",
            "15509\n"
          ]
        }
      ],
      "source": [
        "train_data = process_relation_extraction_data(train_info, 128)\n",
        "dev_data = process_relation_extraction_data(dev_info, 128)\n",
        "test_data = process_relation_extraction_data(test_info, 128)\n",
        "\n",
        "print(len(train_data['label']))\n",
        "print(len(dev_data['label']))\n",
        "print(len(test_data['label']))"
      ]
    },
    {
      "cell_type": "code",
      "execution_count": null,
      "metadata": {
        "id": "izkAliy1Wqxy",
        "outputId": "d9b01020-8002-4321-e5d1-3887d47b6546"
      },
      "outputs": [
        {
          "name": "stderr",
          "output_type": "stream",
          "text": [
            "/tmp/ipykernel_34494/307683292.py:12: UserWarning: Creating a tensor from a list of numpy.ndarrays is extremely slow. Please consider converting the list to a single numpy.ndarray with numpy.array() before converting to a tensor. (Triggered internally at ../torch/csrc/utils/tensor_new.cpp:245.)\n",
            "  text = torch.tensor(text)\n"
          ]
        },
        {
          "name": "stdout",
          "output_type": "stream",
          "text": [
            "--train data--\n",
            "torch.Size([54496, 1, 128])\n",
            "torch.Size([54496, 1, 128])\n",
            "torch.Size([54496])\n",
            "--eval data--\n",
            "torch.Size([22631, 1, 128])\n",
            "torch.Size([22631, 1, 128])\n",
            "torch.Size([22631])\n",
            "--test data--\n",
            "torch.Size([15509, 1, 128])\n",
            "torch.Size([15509, 1, 128])\n",
            "torch.Size([15509])\n"
          ]
        }
      ],
      "source": [
        "# Preprocess train data\n",
        "train_text, train_mask, train_label = convert_data_to_tensors(train_data)\n",
        "print(\"--train data--\")\n",
        "print(train_text.shape)\n",
        "print(train_mask.shape)\n",
        "print(train_label.shape)\n",
        "\n",
        "# Preprocess dev data\n",
        "dev_text, dev_mask, dev_label = convert_data_to_tensors(dev_data)\n",
        "print(\"--eval data--\")\n",
        "print(dev_text.shape)\n",
        "print(dev_mask.shape)\n",
        "print(dev_label.shape)\n",
        "\n",
        "# Preprocess test data\n",
        "test_text, test_mask, test_label = convert_data_to_tensors(test_data)\n",
        "print(\"--test data--\")\n",
        "print(test_text.shape)\n",
        "print(test_mask.shape)\n",
        "print(test_label.shape)"
      ]
    },
    {
      "cell_type": "code",
      "execution_count": null,
      "metadata": {
        "id": "5plRuzg4U_4u"
      },
      "outputs": [],
      "source": [
        "train_dataset = torch.utils.data.TensorDataset(train_text,train_mask,train_label)\n",
        "dev_dataset = torch.utils.data.TensorDataset(dev_text,dev_mask,dev_label)"
      ]
    },
    {
      "cell_type": "code",
      "execution_count": null,
      "metadata": {
        "colab": {
          "base_uri": "https://localhost:8080/",
          "height": 304
        },
        "id": "l-ofVsb7V6O4",
        "outputId": "fbff24fa-2337-4f7a-b927-164210bc158c"
      },
      "outputs": [
        {
          "name": "stdout",
          "output_type": "stream",
          "text": [
            "Training...\n"
          ]
        },
        {
          "name": "stderr",
          "output_type": "stream",
          "text": [
            "Epoch 1/20: 100%|██████████| 3406/3406 [02:14<00:00, 25.38batch/s, loss=0.267, accuracy=0.811] \n"
          ]
        },
        {
          "name": "stdout",
          "output_type": "stream",
          "text": [
            "Epoch 1/20\n",
            "Loss: 0.26725372672080994, Accuracy: 0.8111054022313564\n",
            "Macro F1: 0.03308598427757634, Micro F1: 0.8111054022313564, Weighted F1: 0.7377103624285543\n",
            "Validation...\n"
          ]
        },
        {
          "name": "stderr",
          "output_type": "stream",
          "text": [
            "Evaluation: 100%|█████████▉| 1414/1415 [00:20<00:00, 70.26batch/s, accuracy=0.774]\n",
            "/environment/miniconda3/lib/python3.10/site-packages/sklearn/metrics/_classification.py:1471: UndefinedMetricWarning: Precision is ill-defined and being set to 0.0 in labels with no predicted samples. Use `zero_division` parameter to control this behavior.\n",
            "  _warn_prf(average, modifier, msg_start, len(result))\n"
          ]
        },
        {
          "name": "stdout",
          "output_type": "stream",
          "text": [
            "Eval Result: right 17512, total 22624, Acc: 0.7740\n",
            "Macro F1: 0.0505, Micro F1: 0.7740, Weighted F1: 0.6996\n",
            "Precision: 0.0795, Recall: 0.0543\n",
            "\n",
            "Training...\n"
          ]
        },
        {
          "name": "stderr",
          "output_type": "stream",
          "text": [
            "Epoch 2/20: 100%|██████████| 3406/3406 [02:12<00:00, 25.68batch/s, loss=0.536, accuracy=0.84]  \n"
          ]
        },
        {
          "name": "stdout",
          "output_type": "stream",
          "text": [
            "Epoch 2/20\n",
            "Loss: 0.5360649824142456, Accuracy: 0.8400433059307105\n",
            "Macro F1: 0.13400071744119674, Micro F1: 0.8400433059307105, Weighted F1: 0.7980122138386847\n",
            "Validation...\n"
          ]
        },
        {
          "name": "stderr",
          "output_type": "stream",
          "text": [
            "Evaluation: 100%|█████████▉| 1414/1415 [00:20<00:00, 68.04batch/s, accuracy=0.8]  \n",
            "/environment/miniconda3/lib/python3.10/site-packages/sklearn/metrics/_classification.py:1471: UndefinedMetricWarning: Precision is ill-defined and being set to 0.0 in labels with no predicted samples. Use `zero_division` parameter to control this behavior.\n",
            "  _warn_prf(average, modifier, msg_start, len(result))\n"
          ]
        },
        {
          "name": "stdout",
          "output_type": "stream",
          "text": [
            "Eval Result: right 18092, total 22624, Acc: 0.7997\n",
            "Macro F1: 0.1772, Micro F1: 0.7997, Weighted F1: 0.7554\n",
            "Precision: 0.2536, Recall: 0.1581\n",
            "\n",
            "Training...\n"
          ]
        },
        {
          "name": "stderr",
          "output_type": "stream",
          "text": [
            "Epoch 3/20: 100%|██████████| 3406/3406 [02:13<00:00, 25.49batch/s, loss=0.598, accuracy=0.867] \n"
          ]
        },
        {
          "name": "stdout",
          "output_type": "stream",
          "text": [
            "Epoch 3/20\n",
            "Loss: 0.5980188846588135, Accuracy: 0.8666874633000587\n",
            "Macro F1: 0.2845371659473832, Micro F1: 0.8666874633000587, Weighted F1: 0.8425564509062646\n",
            "Validation...\n"
          ]
        },
        {
          "name": "stderr",
          "output_type": "stream",
          "text": [
            "Evaluation: 100%|█████████▉| 1414/1415 [00:21<00:00, 67.05batch/s, accuracy=0.808]\n",
            "/environment/miniconda3/lib/python3.10/site-packages/sklearn/metrics/_classification.py:1471: UndefinedMetricWarning: Precision is ill-defined and being set to 0.0 in labels with no predicted samples. Use `zero_division` parameter to control this behavior.\n",
            "  _warn_prf(average, modifier, msg_start, len(result))\n"
          ]
        },
        {
          "name": "stdout",
          "output_type": "stream",
          "text": [
            "Eval Result: right 18269, total 22624, Acc: 0.8075\n",
            "Macro F1: 0.2387, Micro F1: 0.8075, Weighted F1: 0.7694\n",
            "Precision: 0.3904, Recall: 0.2157\n",
            "\n",
            "Training...\n"
          ]
        },
        {
          "name": "stderr",
          "output_type": "stream",
          "text": [
            "Epoch 4/20: 100%|██████████| 3406/3406 [02:12<00:00, 25.77batch/s, loss=0.256, accuracy=0.889] \n"
          ]
        },
        {
          "name": "stdout",
          "output_type": "stream",
          "text": [
            "Epoch 4/20\n",
            "Loss: 0.25558099150657654, Accuracy: 0.8892395772166765\n",
            "Macro F1: 0.40410366573402806, Micro F1: 0.8892395772166765, Weighted F1: 0.8743259073096166\n",
            "Validation...\n"
          ]
        },
        {
          "name": "stderr",
          "output_type": "stream",
          "text": [
            "Evaluation: 100%|█████████▉| 1414/1415 [00:21<00:00, 67.01batch/s, accuracy=0.813]\n",
            "/environment/miniconda3/lib/python3.10/site-packages/sklearn/metrics/_classification.py:1471: UndefinedMetricWarning: Precision is ill-defined and being set to 0.0 in labels with no predicted samples. Use `zero_division` parameter to control this behavior.\n",
            "  _warn_prf(average, modifier, msg_start, len(result))\n"
          ]
        },
        {
          "name": "stdout",
          "output_type": "stream",
          "text": [
            "Eval Result: right 18397, total 22624, Acc: 0.8132\n",
            "Macro F1: 0.3207, Micro F1: 0.8132, Weighted F1: 0.7889\n",
            "Precision: 0.4174, Recall: 0.2891\n",
            "\n",
            "Training...\n"
          ]
        },
        {
          "name": "stderr",
          "output_type": "stream",
          "text": [
            "Epoch 5/20: 100%|██████████| 3406/3406 [02:12<00:00, 25.68batch/s, loss=0.664, accuracy=0.911]  \n"
          ]
        },
        {
          "name": "stdout",
          "output_type": "stream",
          "text": [
            "Epoch 5/20\n",
            "Loss: 0.6642034649848938, Accuracy: 0.9114980916030534\n",
            "Macro F1: 0.5143459141845671, Micro F1: 0.9114980916030534, Weighted F1: 0.9025744541696943\n",
            "Validation...\n"
          ]
        },
        {
          "name": "stderr",
          "output_type": "stream",
          "text": [
            "Evaluation: 100%|█████████▉| 1414/1415 [00:21<00:00, 66.96batch/s, accuracy=0.804]\n",
            "/environment/miniconda3/lib/python3.10/site-packages/sklearn/metrics/_classification.py:1471: UndefinedMetricWarning: Precision is ill-defined and being set to 0.0 in labels with no predicted samples. Use `zero_division` parameter to control this behavior.\n",
            "  _warn_prf(average, modifier, msg_start, len(result))\n"
          ]
        },
        {
          "name": "stdout",
          "output_type": "stream",
          "text": [
            "Eval Result: right 18192, total 22624, Acc: 0.8041\n",
            "Macro F1: 0.3553, Micro F1: 0.8041, Weighted F1: 0.7906\n",
            "Precision: 0.4603, Recall: 0.3487\n",
            "\n",
            "Training...\n"
          ]
        },
        {
          "name": "stderr",
          "output_type": "stream",
          "text": [
            "Epoch 6/20: 100%|██████████| 3406/3406 [02:13<00:00, 25.55batch/s, loss=0.0604, accuracy=0.933] \n"
          ]
        },
        {
          "name": "stdout",
          "output_type": "stream",
          "text": [
            "Epoch 6/20\n",
            "Loss: 0.060384441167116165, Accuracy: 0.9327473576042278\n",
            "Macro F1: 0.6120793944661153, Micro F1: 0.9327473576042278, Weighted F1: 0.9275505185844617\n",
            "Validation...\n"
          ]
        },
        {
          "name": "stderr",
          "output_type": "stream",
          "text": [
            "Evaluation: 100%|█████████▉| 1414/1415 [00:21<00:00, 67.07batch/s, accuracy=0.815]\n",
            "/environment/miniconda3/lib/python3.10/site-packages/sklearn/metrics/_classification.py:1471: UndefinedMetricWarning: Precision is ill-defined and being set to 0.0 in labels with no predicted samples. Use `zero_division` parameter to control this behavior.\n",
            "  _warn_prf(average, modifier, msg_start, len(result))\n"
          ]
        },
        {
          "name": "stdout",
          "output_type": "stream",
          "text": [
            "Eval Result: right 18443, total 22624, Acc: 0.8152\n",
            "Macro F1: 0.3397, Micro F1: 0.8152, Weighted F1: 0.7885\n",
            "Precision: 0.4877, Recall: 0.2934\n",
            "\n",
            "Training...\n"
          ]
        },
        {
          "name": "stderr",
          "output_type": "stream",
          "text": [
            "Epoch 7/20: 100%|██████████| 3406/3406 [02:12<00:00, 25.62batch/s, loss=0.216, accuracy=0.952]  \n"
          ]
        },
        {
          "name": "stdout",
          "output_type": "stream",
          "text": [
            "Epoch 7/20\n",
            "Loss: 0.21601983904838562, Accuracy: 0.9520882266588373\n",
            "Macro F1: 0.6968809340803698, Micro F1: 0.9520882266588373, Weighted F1: 0.9490654984802103\n",
            "Validation...\n"
          ]
        },
        {
          "name": "stderr",
          "output_type": "stream",
          "text": [
            "Evaluation: 100%|█████████▉| 1414/1415 [00:20<00:00, 68.37batch/s, accuracy=0.806]\n",
            "/environment/miniconda3/lib/python3.10/site-packages/sklearn/metrics/_classification.py:1471: UndefinedMetricWarning: Precision is ill-defined and being set to 0.0 in labels with no predicted samples. Use `zero_division` parameter to control this behavior.\n",
            "  _warn_prf(average, modifier, msg_start, len(result))\n"
          ]
        },
        {
          "name": "stdout",
          "output_type": "stream",
          "text": [
            "Eval Result: right 18232, total 22624, Acc: 0.8059\n",
            "Macro F1: 0.3794, Micro F1: 0.8059, Weighted F1: 0.7929\n",
            "Precision: 0.4695, Recall: 0.3585\n",
            "\n",
            "Training...\n"
          ]
        },
        {
          "name": "stderr",
          "output_type": "stream",
          "text": [
            "Epoch 8/20: 100%|██████████| 3406/3406 [02:13<00:00, 25.51batch/s, loss=0.0442, accuracy=0.967]  \n"
          ]
        },
        {
          "name": "stdout",
          "output_type": "stream",
          "text": [
            "Epoch 8/20\n",
            "Loss: 0.04419735074043274, Accuracy: 0.9671535525543159\n",
            "Macro F1: 0.7675828986390825, Micro F1: 0.9671535525543159, Weighted F1: 0.9655536340127108\n",
            "Validation...\n"
          ]
        },
        {
          "name": "stderr",
          "output_type": "stream",
          "text": [
            "Evaluation: 100%|█████████▉| 1414/1415 [00:20<00:00, 67.96batch/s, accuracy=0.811]\n",
            "/environment/miniconda3/lib/python3.10/site-packages/sklearn/metrics/_classification.py:1471: UndefinedMetricWarning: Precision is ill-defined and being set to 0.0 in labels with no predicted samples. Use `zero_division` parameter to control this behavior.\n",
            "  _warn_prf(average, modifier, msg_start, len(result))\n"
          ]
        },
        {
          "name": "stdout",
          "output_type": "stream",
          "text": [
            "Eval Result: right 18355, total 22624, Acc: 0.8113\n",
            "Macro F1: 0.3424, Micro F1: 0.8113, Weighted F1: 0.7828\n",
            "Precision: 0.5030, Recall: 0.2837\n",
            "\n",
            "Training...\n"
          ]
        },
        {
          "name": "stderr",
          "output_type": "stream",
          "text": [
            "Epoch 9/20: 100%|██████████| 3406/3406 [02:12<00:00, 25.73batch/s, loss=0.0211, accuracy=0.976]  \n"
          ]
        },
        {
          "name": "stdout",
          "output_type": "stream",
          "text": [
            "Epoch 9/20\n",
            "Loss: 0.021147413179278374, Accuracy: 0.9760716382853788\n",
            "Macro F1: 0.8131627942646175, Micro F1: 0.9760716382853788, Weighted F1: 0.9751414861009612\n",
            "Validation...\n"
          ]
        },
        {
          "name": "stderr",
          "output_type": "stream",
          "text": [
            "Evaluation: 100%|█████████▉| 1414/1415 [00:21<00:00, 67.21batch/s, accuracy=0.806]\n",
            "/environment/miniconda3/lib/python3.10/site-packages/sklearn/metrics/_classification.py:1471: UndefinedMetricWarning: Precision is ill-defined and being set to 0.0 in labels with no predicted samples. Use `zero_division` parameter to control this behavior.\n",
            "  _warn_prf(average, modifier, msg_start, len(result))\n"
          ]
        },
        {
          "name": "stdout",
          "output_type": "stream",
          "text": [
            "Eval Result: right 18239, total 22624, Acc: 0.8062\n",
            "Macro F1: 0.3832, Micro F1: 0.8062, Weighted F1: 0.7927\n",
            "Precision: 0.4972, Recall: 0.3544\n",
            "\n",
            "Training...\n"
          ]
        },
        {
          "name": "stderr",
          "output_type": "stream",
          "text": [
            "Epoch 10/20: 100%|██████████| 3406/3406 [02:12<00:00, 25.69batch/s, loss=0.0235, accuracy=0.982]  \n"
          ]
        },
        {
          "name": "stdout",
          "output_type": "stream",
          "text": [
            "Epoch 10/20\n",
            "Loss: 0.02345546893775463, Accuracy: 0.982420728126835\n",
            "Macro F1: 0.8622313318945739, Micro F1: 0.982420728126835, Weighted F1: 0.9819589263112702\n",
            "Validation...\n"
          ]
        },
        {
          "name": "stderr",
          "output_type": "stream",
          "text": [
            "Evaluation: 100%|█████████▉| 1414/1415 [00:21<00:00, 66.98batch/s, accuracy=0.794]\n",
            "/environment/miniconda3/lib/python3.10/site-packages/sklearn/metrics/_classification.py:1471: UndefinedMetricWarning: Precision is ill-defined and being set to 0.0 in labels with no predicted samples. Use `zero_division` parameter to control this behavior.\n",
            "  _warn_prf(average, modifier, msg_start, len(result))\n"
          ]
        },
        {
          "name": "stdout",
          "output_type": "stream",
          "text": [
            "Eval Result: right 17956, total 22624, Acc: 0.7937\n",
            "Macro F1: 0.3984, Micro F1: 0.7937, Weighted F1: 0.7894\n",
            "Precision: 0.4515, Recall: 0.3924\n",
            "\n",
            "Training...\n"
          ]
        },
        {
          "name": "stderr",
          "output_type": "stream",
          "text": [
            "Epoch 11/20: 100%|██████████| 3406/3406 [02:12<00:00, 25.71batch/s, loss=0.00373, accuracy=0.986] \n"
          ]
        },
        {
          "name": "stdout",
          "output_type": "stream",
          "text": [
            "Epoch 11/20\n",
            "Loss: 0.0037291068583726883, Accuracy: 0.9864393716970052\n",
            "Macro F1: 0.8976226887846902, Micro F1: 0.9864393716970052, Weighted F1: 0.9862354779154168\n",
            "Validation...\n"
          ]
        },
        {
          "name": "stderr",
          "output_type": "stream",
          "text": [
            "Evaluation: 100%|█████████▉| 1414/1415 [00:20<00:00, 68.15batch/s, accuracy=0.811]\n",
            "/environment/miniconda3/lib/python3.10/site-packages/sklearn/metrics/_classification.py:1471: UndefinedMetricWarning: Precision is ill-defined and being set to 0.0 in labels with no predicted samples. Use `zero_division` parameter to control this behavior.\n",
            "  _warn_prf(average, modifier, msg_start, len(result))\n"
          ]
        },
        {
          "name": "stdout",
          "output_type": "stream",
          "text": [
            "Eval Result: right 18351, total 22624, Acc: 0.8111\n",
            "Macro F1: 0.3863, Micro F1: 0.8111, Weighted F1: 0.7947\n",
            "Precision: 0.4875, Recall: 0.3474\n",
            "\n",
            "Training...\n"
          ]
        },
        {
          "name": "stderr",
          "output_type": "stream",
          "text": [
            "Epoch 12/20: 100%|██████████| 3406/3406 [02:12<00:00, 25.80batch/s, loss=0.00839, accuracy=0.99]  \n"
          ]
        },
        {
          "name": "stdout",
          "output_type": "stream",
          "text": [
            "Epoch 12/20\n",
            "Loss: 0.008385044522583485, Accuracy: 0.9899992660011744\n",
            "Macro F1: 0.9173365926900269, Micro F1: 0.9899992660011744, Weighted F1: 0.9898576649934752\n",
            "Validation...\n"
          ]
        },
        {
          "name": "stderr",
          "output_type": "stream",
          "text": [
            "Evaluation: 100%|█████████▉| 1414/1415 [00:21<00:00, 67.09batch/s, accuracy=0.804]\n",
            "/environment/miniconda3/lib/python3.10/site-packages/sklearn/metrics/_classification.py:1471: UndefinedMetricWarning: Precision is ill-defined and being set to 0.0 in labels with no predicted samples. Use `zero_division` parameter to control this behavior.\n",
            "  _warn_prf(average, modifier, msg_start, len(result))\n"
          ]
        },
        {
          "name": "stdout",
          "output_type": "stream",
          "text": [
            "Eval Result: right 18191, total 22624, Acc: 0.8041\n",
            "Macro F1: 0.3999, Micro F1: 0.8041, Weighted F1: 0.7948\n",
            "Precision: 0.4481, Recall: 0.3785\n",
            "\n",
            "Training...\n"
          ]
        },
        {
          "name": "stderr",
          "output_type": "stream",
          "text": [
            "Epoch 13/20:  95%|█████████▍| 3219/3406 [02:05<00:07, 25.67batch/s, loss=0.096, accuracy=0.992]   "
          ]
        }
      ],
      "source": [
        "epoch_losses, epoch_accuracies = train(model, train_dataset, dev_dataset, 20, 0.002, 16)"
      ]
    },
    {
      "cell_type": "code",
      "execution_count": null,
      "metadata": {
        "id": "fopkPhXUWqxz"
      },
      "outputs": [],
      "source": [
        "import matplotlib.pyplot as plt\n",
        "\n",
        "num_epochs = 20\n",
        "\n",
        "# Plotting\n",
        "plt.figure(figsize=(12, 5))\n",
        "plt.subplot(1, 2, 1)\n",
        "plt.plot(range(1, num_epochs + 1), epoch_losses, label='Loss')\n",
        "plt.title('Loss per Epoch')\n",
        "plt.xlabel('Epoch')\n",
        "plt.ylabel('Loss')\n",
        "plt.legend()\n",
        "\n",
        "plt.subplot(1, 2, 2)\n",
        "plt.plot(range(1, num_epochs + 1), epoch_accuracies, label='Accuracy', color='orange')\n",
        "plt.title('Accuracy per Epoch')\n",
        "plt.xlabel('Epoch')\n",
        "plt.ylabel('Accuracy')\n",
        "plt.legend()\n",
        "\n",
        "plt.show()"
      ]
    },
    {
      "cell_type": "code",
      "execution_count": null,
      "metadata": {
        "id": "8f4tYBPAWqxz"
      },
      "outputs": [],
      "source": [
        "test_dataset = torch.utils.data.TensorDataset(test_text, test_mask, test_label)\n",
        "acc_list, macro_f1_list, micro_f1_list, weighted_f1_list, precision_list, recall_list = eval(model, test_dataset, 16)"
      ]
    },
    {
      "cell_type": "code",
      "execution_count": null,
      "metadata": {
        "id": "I3xIS8zpWqxz"
      },
      "outputs": [],
      "source": [
        "print(acc_list)\n",
        "print(precision_list)\n",
        "print(recall_list)\n",
        "print()\n",
        "print(macro_f1_list)\n",
        "print(micro_f1_list)\n",
        "print(weighted_f1_list)"
      ]
    }
  ],
  "metadata": {
    "colab": {
      "provenance": []
    },
    "kernelspec": {
      "display_name": "Python 3 (ipykernel)",
      "language": "python",
      "name": "python3"
    },
    "language_info": {
      "codemirror_mode": {
        "name": "ipython",
        "version": 3
      },
      "file_extension": ".py",
      "mimetype": "text/x-python",
      "name": "python",
      "nbconvert_exporter": "python",
      "pygments_lexer": "ipython3",
      "version": "3.10.12"
    },
    "widgets": {
      "application/vnd.jupyter.widget-state+json": {
        "867c49e3150044fc93c5edacfc363b76": {
          "model_module": "@jupyter-widgets/controls",
          "model_name": "HBoxModel",
          "model_module_version": "1.5.0",
          "state": {
            "_dom_classes": [],
            "_model_module": "@jupyter-widgets/controls",
            "_model_module_version": "1.5.0",
            "_model_name": "HBoxModel",
            "_view_count": null,
            "_view_module": "@jupyter-widgets/controls",
            "_view_module_version": "1.5.0",
            "_view_name": "HBoxView",
            "box_style": "",
            "children": [
              "IPY_MODEL_602945d0e48247b5a1d1367ba51a8c7e",
              "IPY_MODEL_a1eaabe5826043cabde24cd5624fc51c",
              "IPY_MODEL_64917c047c044feea0716cc8850faeff"
            ],
            "layout": "IPY_MODEL_cc4a1edcd08545939ed50e3393dd8b4d"
          }
        },
        "602945d0e48247b5a1d1367ba51a8c7e": {
          "model_module": "@jupyter-widgets/controls",
          "model_name": "HTMLModel",
          "model_module_version": "1.5.0",
          "state": {
            "_dom_classes": [],
            "_model_module": "@jupyter-widgets/controls",
            "_model_module_version": "1.5.0",
            "_model_name": "HTMLModel",
            "_view_count": null,
            "_view_module": "@jupyter-widgets/controls",
            "_view_module_version": "1.5.0",
            "_view_name": "HTMLView",
            "description": "",
            "description_tooltip": null,
            "layout": "IPY_MODEL_cedd7d7bf3d04272993dc819dbac1d9c",
            "placeholder": "​",
            "style": "IPY_MODEL_ac0ad0f213f24e408cf5eb2911f35f0f",
            "value": "tokenizer_config.json: 100%"
          }
        },
        "a1eaabe5826043cabde24cd5624fc51c": {
          "model_module": "@jupyter-widgets/controls",
          "model_name": "FloatProgressModel",
          "model_module_version": "1.5.0",
          "state": {
            "_dom_classes": [],
            "_model_module": "@jupyter-widgets/controls",
            "_model_module_version": "1.5.0",
            "_model_name": "FloatProgressModel",
            "_view_count": null,
            "_view_module": "@jupyter-widgets/controls",
            "_view_module_version": "1.5.0",
            "_view_name": "ProgressView",
            "bar_style": "success",
            "description": "",
            "description_tooltip": null,
            "layout": "IPY_MODEL_163494d9910241b7bfe231be59f59e9b",
            "max": 48,
            "min": 0,
            "orientation": "horizontal",
            "style": "IPY_MODEL_6548f491b1954f179a67ce6310c5cfe3",
            "value": 48
          }
        },
        "64917c047c044feea0716cc8850faeff": {
          "model_module": "@jupyter-widgets/controls",
          "model_name": "HTMLModel",
          "model_module_version": "1.5.0",
          "state": {
            "_dom_classes": [],
            "_model_module": "@jupyter-widgets/controls",
            "_model_module_version": "1.5.0",
            "_model_name": "HTMLModel",
            "_view_count": null,
            "_view_module": "@jupyter-widgets/controls",
            "_view_module_version": "1.5.0",
            "_view_name": "HTMLView",
            "description": "",
            "description_tooltip": null,
            "layout": "IPY_MODEL_998e9c8b6f194dff87ab5d28cc4cef5a",
            "placeholder": "​",
            "style": "IPY_MODEL_0499b05abf554a9cba77254363ad7b2f",
            "value": " 48.0/48.0 [00:00&lt;00:00, 580B/s]"
          }
        },
        "cc4a1edcd08545939ed50e3393dd8b4d": {
          "model_module": "@jupyter-widgets/base",
          "model_name": "LayoutModel",
          "model_module_version": "1.2.0",
          "state": {
            "_model_module": "@jupyter-widgets/base",
            "_model_module_version": "1.2.0",
            "_model_name": "LayoutModel",
            "_view_count": null,
            "_view_module": "@jupyter-widgets/base",
            "_view_module_version": "1.2.0",
            "_view_name": "LayoutView",
            "align_content": null,
            "align_items": null,
            "align_self": null,
            "border": null,
            "bottom": null,
            "display": null,
            "flex": null,
            "flex_flow": null,
            "grid_area": null,
            "grid_auto_columns": null,
            "grid_auto_flow": null,
            "grid_auto_rows": null,
            "grid_column": null,
            "grid_gap": null,
            "grid_row": null,
            "grid_template_areas": null,
            "grid_template_columns": null,
            "grid_template_rows": null,
            "height": null,
            "justify_content": null,
            "justify_items": null,
            "left": null,
            "margin": null,
            "max_height": null,
            "max_width": null,
            "min_height": null,
            "min_width": null,
            "object_fit": null,
            "object_position": null,
            "order": null,
            "overflow": null,
            "overflow_x": null,
            "overflow_y": null,
            "padding": null,
            "right": null,
            "top": null,
            "visibility": null,
            "width": null
          }
        },
        "cedd7d7bf3d04272993dc819dbac1d9c": {
          "model_module": "@jupyter-widgets/base",
          "model_name": "LayoutModel",
          "model_module_version": "1.2.0",
          "state": {
            "_model_module": "@jupyter-widgets/base",
            "_model_module_version": "1.2.0",
            "_model_name": "LayoutModel",
            "_view_count": null,
            "_view_module": "@jupyter-widgets/base",
            "_view_module_version": "1.2.0",
            "_view_name": "LayoutView",
            "align_content": null,
            "align_items": null,
            "align_self": null,
            "border": null,
            "bottom": null,
            "display": null,
            "flex": null,
            "flex_flow": null,
            "grid_area": null,
            "grid_auto_columns": null,
            "grid_auto_flow": null,
            "grid_auto_rows": null,
            "grid_column": null,
            "grid_gap": null,
            "grid_row": null,
            "grid_template_areas": null,
            "grid_template_columns": null,
            "grid_template_rows": null,
            "height": null,
            "justify_content": null,
            "justify_items": null,
            "left": null,
            "margin": null,
            "max_height": null,
            "max_width": null,
            "min_height": null,
            "min_width": null,
            "object_fit": null,
            "object_position": null,
            "order": null,
            "overflow": null,
            "overflow_x": null,
            "overflow_y": null,
            "padding": null,
            "right": null,
            "top": null,
            "visibility": null,
            "width": null
          }
        },
        "ac0ad0f213f24e408cf5eb2911f35f0f": {
          "model_module": "@jupyter-widgets/controls",
          "model_name": "DescriptionStyleModel",
          "model_module_version": "1.5.0",
          "state": {
            "_model_module": "@jupyter-widgets/controls",
            "_model_module_version": "1.5.0",
            "_model_name": "DescriptionStyleModel",
            "_view_count": null,
            "_view_module": "@jupyter-widgets/base",
            "_view_module_version": "1.2.0",
            "_view_name": "StyleView",
            "description_width": ""
          }
        },
        "163494d9910241b7bfe231be59f59e9b": {
          "model_module": "@jupyter-widgets/base",
          "model_name": "LayoutModel",
          "model_module_version": "1.2.0",
          "state": {
            "_model_module": "@jupyter-widgets/base",
            "_model_module_version": "1.2.0",
            "_model_name": "LayoutModel",
            "_view_count": null,
            "_view_module": "@jupyter-widgets/base",
            "_view_module_version": "1.2.0",
            "_view_name": "LayoutView",
            "align_content": null,
            "align_items": null,
            "align_self": null,
            "border": null,
            "bottom": null,
            "display": null,
            "flex": null,
            "flex_flow": null,
            "grid_area": null,
            "grid_auto_columns": null,
            "grid_auto_flow": null,
            "grid_auto_rows": null,
            "grid_column": null,
            "grid_gap": null,
            "grid_row": null,
            "grid_template_areas": null,
            "grid_template_columns": null,
            "grid_template_rows": null,
            "height": null,
            "justify_content": null,
            "justify_items": null,
            "left": null,
            "margin": null,
            "max_height": null,
            "max_width": null,
            "min_height": null,
            "min_width": null,
            "object_fit": null,
            "object_position": null,
            "order": null,
            "overflow": null,
            "overflow_x": null,
            "overflow_y": null,
            "padding": null,
            "right": null,
            "top": null,
            "visibility": null,
            "width": null
          }
        },
        "6548f491b1954f179a67ce6310c5cfe3": {
          "model_module": "@jupyter-widgets/controls",
          "model_name": "ProgressStyleModel",
          "model_module_version": "1.5.0",
          "state": {
            "_model_module": "@jupyter-widgets/controls",
            "_model_module_version": "1.5.0",
            "_model_name": "ProgressStyleModel",
            "_view_count": null,
            "_view_module": "@jupyter-widgets/base",
            "_view_module_version": "1.2.0",
            "_view_name": "StyleView",
            "bar_color": null,
            "description_width": ""
          }
        },
        "998e9c8b6f194dff87ab5d28cc4cef5a": {
          "model_module": "@jupyter-widgets/base",
          "model_name": "LayoutModel",
          "model_module_version": "1.2.0",
          "state": {
            "_model_module": "@jupyter-widgets/base",
            "_model_module_version": "1.2.0",
            "_model_name": "LayoutModel",
            "_view_count": null,
            "_view_module": "@jupyter-widgets/base",
            "_view_module_version": "1.2.0",
            "_view_name": "LayoutView",
            "align_content": null,
            "align_items": null,
            "align_self": null,
            "border": null,
            "bottom": null,
            "display": null,
            "flex": null,
            "flex_flow": null,
            "grid_area": null,
            "grid_auto_columns": null,
            "grid_auto_flow": null,
            "grid_auto_rows": null,
            "grid_column": null,
            "grid_gap": null,
            "grid_row": null,
            "grid_template_areas": null,
            "grid_template_columns": null,
            "grid_template_rows": null,
            "height": null,
            "justify_content": null,
            "justify_items": null,
            "left": null,
            "margin": null,
            "max_height": null,
            "max_width": null,
            "min_height": null,
            "min_width": null,
            "object_fit": null,
            "object_position": null,
            "order": null,
            "overflow": null,
            "overflow_x": null,
            "overflow_y": null,
            "padding": null,
            "right": null,
            "top": null,
            "visibility": null,
            "width": null
          }
        },
        "0499b05abf554a9cba77254363ad7b2f": {
          "model_module": "@jupyter-widgets/controls",
          "model_name": "DescriptionStyleModel",
          "model_module_version": "1.5.0",
          "state": {
            "_model_module": "@jupyter-widgets/controls",
            "_model_module_version": "1.5.0",
            "_model_name": "DescriptionStyleModel",
            "_view_count": null,
            "_view_module": "@jupyter-widgets/base",
            "_view_module_version": "1.2.0",
            "_view_name": "StyleView",
            "description_width": ""
          }
        },
        "b871f08e1c514b3d8b048ae4b2a85881": {
          "model_module": "@jupyter-widgets/controls",
          "model_name": "HBoxModel",
          "model_module_version": "1.5.0",
          "state": {
            "_dom_classes": [],
            "_model_module": "@jupyter-widgets/controls",
            "_model_module_version": "1.5.0",
            "_model_name": "HBoxModel",
            "_view_count": null,
            "_view_module": "@jupyter-widgets/controls",
            "_view_module_version": "1.5.0",
            "_view_name": "HBoxView",
            "box_style": "",
            "children": [
              "IPY_MODEL_0de813fdeee04fef95ae911c3aea0801",
              "IPY_MODEL_00589bf133fc42ffa7084b6dadeb3720",
              "IPY_MODEL_cf27df246a964a0098cd914987837cf1"
            ],
            "layout": "IPY_MODEL_ce60acd0ceeb4bbb92d66a3e04af185e"
          }
        },
        "0de813fdeee04fef95ae911c3aea0801": {
          "model_module": "@jupyter-widgets/controls",
          "model_name": "HTMLModel",
          "model_module_version": "1.5.0",
          "state": {
            "_dom_classes": [],
            "_model_module": "@jupyter-widgets/controls",
            "_model_module_version": "1.5.0",
            "_model_name": "HTMLModel",
            "_view_count": null,
            "_view_module": "@jupyter-widgets/controls",
            "_view_module_version": "1.5.0",
            "_view_name": "HTMLView",
            "description": "",
            "description_tooltip": null,
            "layout": "IPY_MODEL_15b200dcf8d14486bf4dec07727883c7",
            "placeholder": "​",
            "style": "IPY_MODEL_51a3baaf1f4142eb83ee272f9566f919",
            "value": "vocab.txt: 100%"
          }
        },
        "00589bf133fc42ffa7084b6dadeb3720": {
          "model_module": "@jupyter-widgets/controls",
          "model_name": "FloatProgressModel",
          "model_module_version": "1.5.0",
          "state": {
            "_dom_classes": [],
            "_model_module": "@jupyter-widgets/controls",
            "_model_module_version": "1.5.0",
            "_model_name": "FloatProgressModel",
            "_view_count": null,
            "_view_module": "@jupyter-widgets/controls",
            "_view_module_version": "1.5.0",
            "_view_name": "ProgressView",
            "bar_style": "success",
            "description": "",
            "description_tooltip": null,
            "layout": "IPY_MODEL_ac0afd372e1d4072b17bad4ad381c35e",
            "max": 231508,
            "min": 0,
            "orientation": "horizontal",
            "style": "IPY_MODEL_ec5c7ea3571645508eb54d63eff62405",
            "value": 231508
          }
        },
        "cf27df246a964a0098cd914987837cf1": {
          "model_module": "@jupyter-widgets/controls",
          "model_name": "HTMLModel",
          "model_module_version": "1.5.0",
          "state": {
            "_dom_classes": [],
            "_model_module": "@jupyter-widgets/controls",
            "_model_module_version": "1.5.0",
            "_model_name": "HTMLModel",
            "_view_count": null,
            "_view_module": "@jupyter-widgets/controls",
            "_view_module_version": "1.5.0",
            "_view_name": "HTMLView",
            "description": "",
            "description_tooltip": null,
            "layout": "IPY_MODEL_0ed7f33c7fec4424be168caf625a865f",
            "placeholder": "​",
            "style": "IPY_MODEL_6587b1d32966479e9e77795867bc02e0",
            "value": " 232k/232k [00:00&lt;00:00, 3.55MB/s]"
          }
        },
        "ce60acd0ceeb4bbb92d66a3e04af185e": {
          "model_module": "@jupyter-widgets/base",
          "model_name": "LayoutModel",
          "model_module_version": "1.2.0",
          "state": {
            "_model_module": "@jupyter-widgets/base",
            "_model_module_version": "1.2.0",
            "_model_name": "LayoutModel",
            "_view_count": null,
            "_view_module": "@jupyter-widgets/base",
            "_view_module_version": "1.2.0",
            "_view_name": "LayoutView",
            "align_content": null,
            "align_items": null,
            "align_self": null,
            "border": null,
            "bottom": null,
            "display": null,
            "flex": null,
            "flex_flow": null,
            "grid_area": null,
            "grid_auto_columns": null,
            "grid_auto_flow": null,
            "grid_auto_rows": null,
            "grid_column": null,
            "grid_gap": null,
            "grid_row": null,
            "grid_template_areas": null,
            "grid_template_columns": null,
            "grid_template_rows": null,
            "height": null,
            "justify_content": null,
            "justify_items": null,
            "left": null,
            "margin": null,
            "max_height": null,
            "max_width": null,
            "min_height": null,
            "min_width": null,
            "object_fit": null,
            "object_position": null,
            "order": null,
            "overflow": null,
            "overflow_x": null,
            "overflow_y": null,
            "padding": null,
            "right": null,
            "top": null,
            "visibility": null,
            "width": null
          }
        },
        "15b200dcf8d14486bf4dec07727883c7": {
          "model_module": "@jupyter-widgets/base",
          "model_name": "LayoutModel",
          "model_module_version": "1.2.0",
          "state": {
            "_model_module": "@jupyter-widgets/base",
            "_model_module_version": "1.2.0",
            "_model_name": "LayoutModel",
            "_view_count": null,
            "_view_module": "@jupyter-widgets/base",
            "_view_module_version": "1.2.0",
            "_view_name": "LayoutView",
            "align_content": null,
            "align_items": null,
            "align_self": null,
            "border": null,
            "bottom": null,
            "display": null,
            "flex": null,
            "flex_flow": null,
            "grid_area": null,
            "grid_auto_columns": null,
            "grid_auto_flow": null,
            "grid_auto_rows": null,
            "grid_column": null,
            "grid_gap": null,
            "grid_row": null,
            "grid_template_areas": null,
            "grid_template_columns": null,
            "grid_template_rows": null,
            "height": null,
            "justify_content": null,
            "justify_items": null,
            "left": null,
            "margin": null,
            "max_height": null,
            "max_width": null,
            "min_height": null,
            "min_width": null,
            "object_fit": null,
            "object_position": null,
            "order": null,
            "overflow": null,
            "overflow_x": null,
            "overflow_y": null,
            "padding": null,
            "right": null,
            "top": null,
            "visibility": null,
            "width": null
          }
        },
        "51a3baaf1f4142eb83ee272f9566f919": {
          "model_module": "@jupyter-widgets/controls",
          "model_name": "DescriptionStyleModel",
          "model_module_version": "1.5.0",
          "state": {
            "_model_module": "@jupyter-widgets/controls",
            "_model_module_version": "1.5.0",
            "_model_name": "DescriptionStyleModel",
            "_view_count": null,
            "_view_module": "@jupyter-widgets/base",
            "_view_module_version": "1.2.0",
            "_view_name": "StyleView",
            "description_width": ""
          }
        },
        "ac0afd372e1d4072b17bad4ad381c35e": {
          "model_module": "@jupyter-widgets/base",
          "model_name": "LayoutModel",
          "model_module_version": "1.2.0",
          "state": {
            "_model_module": "@jupyter-widgets/base",
            "_model_module_version": "1.2.0",
            "_model_name": "LayoutModel",
            "_view_count": null,
            "_view_module": "@jupyter-widgets/base",
            "_view_module_version": "1.2.0",
            "_view_name": "LayoutView",
            "align_content": null,
            "align_items": null,
            "align_self": null,
            "border": null,
            "bottom": null,
            "display": null,
            "flex": null,
            "flex_flow": null,
            "grid_area": null,
            "grid_auto_columns": null,
            "grid_auto_flow": null,
            "grid_auto_rows": null,
            "grid_column": null,
            "grid_gap": null,
            "grid_row": null,
            "grid_template_areas": null,
            "grid_template_columns": null,
            "grid_template_rows": null,
            "height": null,
            "justify_content": null,
            "justify_items": null,
            "left": null,
            "margin": null,
            "max_height": null,
            "max_width": null,
            "min_height": null,
            "min_width": null,
            "object_fit": null,
            "object_position": null,
            "order": null,
            "overflow": null,
            "overflow_x": null,
            "overflow_y": null,
            "padding": null,
            "right": null,
            "top": null,
            "visibility": null,
            "width": null
          }
        },
        "ec5c7ea3571645508eb54d63eff62405": {
          "model_module": "@jupyter-widgets/controls",
          "model_name": "ProgressStyleModel",
          "model_module_version": "1.5.0",
          "state": {
            "_model_module": "@jupyter-widgets/controls",
            "_model_module_version": "1.5.0",
            "_model_name": "ProgressStyleModel",
            "_view_count": null,
            "_view_module": "@jupyter-widgets/base",
            "_view_module_version": "1.2.0",
            "_view_name": "StyleView",
            "bar_color": null,
            "description_width": ""
          }
        },
        "0ed7f33c7fec4424be168caf625a865f": {
          "model_module": "@jupyter-widgets/base",
          "model_name": "LayoutModel",
          "model_module_version": "1.2.0",
          "state": {
            "_model_module": "@jupyter-widgets/base",
            "_model_module_version": "1.2.0",
            "_model_name": "LayoutModel",
            "_view_count": null,
            "_view_module": "@jupyter-widgets/base",
            "_view_module_version": "1.2.0",
            "_view_name": "LayoutView",
            "align_content": null,
            "align_items": null,
            "align_self": null,
            "border": null,
            "bottom": null,
            "display": null,
            "flex": null,
            "flex_flow": null,
            "grid_area": null,
            "grid_auto_columns": null,
            "grid_auto_flow": null,
            "grid_auto_rows": null,
            "grid_column": null,
            "grid_gap": null,
            "grid_row": null,
            "grid_template_areas": null,
            "grid_template_columns": null,
            "grid_template_rows": null,
            "height": null,
            "justify_content": null,
            "justify_items": null,
            "left": null,
            "margin": null,
            "max_height": null,
            "max_width": null,
            "min_height": null,
            "min_width": null,
            "object_fit": null,
            "object_position": null,
            "order": null,
            "overflow": null,
            "overflow_x": null,
            "overflow_y": null,
            "padding": null,
            "right": null,
            "top": null,
            "visibility": null,
            "width": null
          }
        },
        "6587b1d32966479e9e77795867bc02e0": {
          "model_module": "@jupyter-widgets/controls",
          "model_name": "DescriptionStyleModel",
          "model_module_version": "1.5.0",
          "state": {
            "_model_module": "@jupyter-widgets/controls",
            "_model_module_version": "1.5.0",
            "_model_name": "DescriptionStyleModel",
            "_view_count": null,
            "_view_module": "@jupyter-widgets/base",
            "_view_module_version": "1.2.0",
            "_view_name": "StyleView",
            "description_width": ""
          }
        },
        "b52f8dfbac5a44d295e33d08f02bada1": {
          "model_module": "@jupyter-widgets/controls",
          "model_name": "HBoxModel",
          "model_module_version": "1.5.0",
          "state": {
            "_dom_classes": [],
            "_model_module": "@jupyter-widgets/controls",
            "_model_module_version": "1.5.0",
            "_model_name": "HBoxModel",
            "_view_count": null,
            "_view_module": "@jupyter-widgets/controls",
            "_view_module_version": "1.5.0",
            "_view_name": "HBoxView",
            "box_style": "",
            "children": [
              "IPY_MODEL_0f1808591a4c4dbca3e1656865d3c863",
              "IPY_MODEL_524d8de0aea641689ab979b7140ccd3a",
              "IPY_MODEL_4dc4ef373f6e46dcaec0075e75cd2c59"
            ],
            "layout": "IPY_MODEL_ef007043210a444380287aca839d956b"
          }
        },
        "0f1808591a4c4dbca3e1656865d3c863": {
          "model_module": "@jupyter-widgets/controls",
          "model_name": "HTMLModel",
          "model_module_version": "1.5.0",
          "state": {
            "_dom_classes": [],
            "_model_module": "@jupyter-widgets/controls",
            "_model_module_version": "1.5.0",
            "_model_name": "HTMLModel",
            "_view_count": null,
            "_view_module": "@jupyter-widgets/controls",
            "_view_module_version": "1.5.0",
            "_view_name": "HTMLView",
            "description": "",
            "description_tooltip": null,
            "layout": "IPY_MODEL_4cc530bf63f246b6928357135d011c64",
            "placeholder": "​",
            "style": "IPY_MODEL_44716172a64840c288424f6dd2907feb",
            "value": "tokenizer.json: 100%"
          }
        },
        "524d8de0aea641689ab979b7140ccd3a": {
          "model_module": "@jupyter-widgets/controls",
          "model_name": "FloatProgressModel",
          "model_module_version": "1.5.0",
          "state": {
            "_dom_classes": [],
            "_model_module": "@jupyter-widgets/controls",
            "_model_module_version": "1.5.0",
            "_model_name": "FloatProgressModel",
            "_view_count": null,
            "_view_module": "@jupyter-widgets/controls",
            "_view_module_version": "1.5.0",
            "_view_name": "ProgressView",
            "bar_style": "success",
            "description": "",
            "description_tooltip": null,
            "layout": "IPY_MODEL_9ebc81db64fd48f39022bd68a7341e0c",
            "max": 466062,
            "min": 0,
            "orientation": "horizontal",
            "style": "IPY_MODEL_2c8ddae7ab66400a95a0f792cb0c398f",
            "value": 466062
          }
        },
        "4dc4ef373f6e46dcaec0075e75cd2c59": {
          "model_module": "@jupyter-widgets/controls",
          "model_name": "HTMLModel",
          "model_module_version": "1.5.0",
          "state": {
            "_dom_classes": [],
            "_model_module": "@jupyter-widgets/controls",
            "_model_module_version": "1.5.0",
            "_model_name": "HTMLModel",
            "_view_count": null,
            "_view_module": "@jupyter-widgets/controls",
            "_view_module_version": "1.5.0",
            "_view_name": "HTMLView",
            "description": "",
            "description_tooltip": null,
            "layout": "IPY_MODEL_607dc8b2bc1a40c6a9d4ba6a498370fe",
            "placeholder": "​",
            "style": "IPY_MODEL_23201b36befb4ecc8883837ce4a3fd97",
            "value": " 466k/466k [00:00&lt;00:00, 8.28MB/s]"
          }
        },
        "ef007043210a444380287aca839d956b": {
          "model_module": "@jupyter-widgets/base",
          "model_name": "LayoutModel",
          "model_module_version": "1.2.0",
          "state": {
            "_model_module": "@jupyter-widgets/base",
            "_model_module_version": "1.2.0",
            "_model_name": "LayoutModel",
            "_view_count": null,
            "_view_module": "@jupyter-widgets/base",
            "_view_module_version": "1.2.0",
            "_view_name": "LayoutView",
            "align_content": null,
            "align_items": null,
            "align_self": null,
            "border": null,
            "bottom": null,
            "display": null,
            "flex": null,
            "flex_flow": null,
            "grid_area": null,
            "grid_auto_columns": null,
            "grid_auto_flow": null,
            "grid_auto_rows": null,
            "grid_column": null,
            "grid_gap": null,
            "grid_row": null,
            "grid_template_areas": null,
            "grid_template_columns": null,
            "grid_template_rows": null,
            "height": null,
            "justify_content": null,
            "justify_items": null,
            "left": null,
            "margin": null,
            "max_height": null,
            "max_width": null,
            "min_height": null,
            "min_width": null,
            "object_fit": null,
            "object_position": null,
            "order": null,
            "overflow": null,
            "overflow_x": null,
            "overflow_y": null,
            "padding": null,
            "right": null,
            "top": null,
            "visibility": null,
            "width": null
          }
        },
        "4cc530bf63f246b6928357135d011c64": {
          "model_module": "@jupyter-widgets/base",
          "model_name": "LayoutModel",
          "model_module_version": "1.2.0",
          "state": {
            "_model_module": "@jupyter-widgets/base",
            "_model_module_version": "1.2.0",
            "_model_name": "LayoutModel",
            "_view_count": null,
            "_view_module": "@jupyter-widgets/base",
            "_view_module_version": "1.2.0",
            "_view_name": "LayoutView",
            "align_content": null,
            "align_items": null,
            "align_self": null,
            "border": null,
            "bottom": null,
            "display": null,
            "flex": null,
            "flex_flow": null,
            "grid_area": null,
            "grid_auto_columns": null,
            "grid_auto_flow": null,
            "grid_auto_rows": null,
            "grid_column": null,
            "grid_gap": null,
            "grid_row": null,
            "grid_template_areas": null,
            "grid_template_columns": null,
            "grid_template_rows": null,
            "height": null,
            "justify_content": null,
            "justify_items": null,
            "left": null,
            "margin": null,
            "max_height": null,
            "max_width": null,
            "min_height": null,
            "min_width": null,
            "object_fit": null,
            "object_position": null,
            "order": null,
            "overflow": null,
            "overflow_x": null,
            "overflow_y": null,
            "padding": null,
            "right": null,
            "top": null,
            "visibility": null,
            "width": null
          }
        },
        "44716172a64840c288424f6dd2907feb": {
          "model_module": "@jupyter-widgets/controls",
          "model_name": "DescriptionStyleModel",
          "model_module_version": "1.5.0",
          "state": {
            "_model_module": "@jupyter-widgets/controls",
            "_model_module_version": "1.5.0",
            "_model_name": "DescriptionStyleModel",
            "_view_count": null,
            "_view_module": "@jupyter-widgets/base",
            "_view_module_version": "1.2.0",
            "_view_name": "StyleView",
            "description_width": ""
          }
        },
        "9ebc81db64fd48f39022bd68a7341e0c": {
          "model_module": "@jupyter-widgets/base",
          "model_name": "LayoutModel",
          "model_module_version": "1.2.0",
          "state": {
            "_model_module": "@jupyter-widgets/base",
            "_model_module_version": "1.2.0",
            "_model_name": "LayoutModel",
            "_view_count": null,
            "_view_module": "@jupyter-widgets/base",
            "_view_module_version": "1.2.0",
            "_view_name": "LayoutView",
            "align_content": null,
            "align_items": null,
            "align_self": null,
            "border": null,
            "bottom": null,
            "display": null,
            "flex": null,
            "flex_flow": null,
            "grid_area": null,
            "grid_auto_columns": null,
            "grid_auto_flow": null,
            "grid_auto_rows": null,
            "grid_column": null,
            "grid_gap": null,
            "grid_row": null,
            "grid_template_areas": null,
            "grid_template_columns": null,
            "grid_template_rows": null,
            "height": null,
            "justify_content": null,
            "justify_items": null,
            "left": null,
            "margin": null,
            "max_height": null,
            "max_width": null,
            "min_height": null,
            "min_width": null,
            "object_fit": null,
            "object_position": null,
            "order": null,
            "overflow": null,
            "overflow_x": null,
            "overflow_y": null,
            "padding": null,
            "right": null,
            "top": null,
            "visibility": null,
            "width": null
          }
        },
        "2c8ddae7ab66400a95a0f792cb0c398f": {
          "model_module": "@jupyter-widgets/controls",
          "model_name": "ProgressStyleModel",
          "model_module_version": "1.5.0",
          "state": {
            "_model_module": "@jupyter-widgets/controls",
            "_model_module_version": "1.5.0",
            "_model_name": "ProgressStyleModel",
            "_view_count": null,
            "_view_module": "@jupyter-widgets/base",
            "_view_module_version": "1.2.0",
            "_view_name": "StyleView",
            "bar_color": null,
            "description_width": ""
          }
        },
        "607dc8b2bc1a40c6a9d4ba6a498370fe": {
          "model_module": "@jupyter-widgets/base",
          "model_name": "LayoutModel",
          "model_module_version": "1.2.0",
          "state": {
            "_model_module": "@jupyter-widgets/base",
            "_model_module_version": "1.2.0",
            "_model_name": "LayoutModel",
            "_view_count": null,
            "_view_module": "@jupyter-widgets/base",
            "_view_module_version": "1.2.0",
            "_view_name": "LayoutView",
            "align_content": null,
            "align_items": null,
            "align_self": null,
            "border": null,
            "bottom": null,
            "display": null,
            "flex": null,
            "flex_flow": null,
            "grid_area": null,
            "grid_auto_columns": null,
            "grid_auto_flow": null,
            "grid_auto_rows": null,
            "grid_column": null,
            "grid_gap": null,
            "grid_row": null,
            "grid_template_areas": null,
            "grid_template_columns": null,
            "grid_template_rows": null,
            "height": null,
            "justify_content": null,
            "justify_items": null,
            "left": null,
            "margin": null,
            "max_height": null,
            "max_width": null,
            "min_height": null,
            "min_width": null,
            "object_fit": null,
            "object_position": null,
            "order": null,
            "overflow": null,
            "overflow_x": null,
            "overflow_y": null,
            "padding": null,
            "right": null,
            "top": null,
            "visibility": null,
            "width": null
          }
        },
        "23201b36befb4ecc8883837ce4a3fd97": {
          "model_module": "@jupyter-widgets/controls",
          "model_name": "DescriptionStyleModel",
          "model_module_version": "1.5.0",
          "state": {
            "_model_module": "@jupyter-widgets/controls",
            "_model_module_version": "1.5.0",
            "_model_name": "DescriptionStyleModel",
            "_view_count": null,
            "_view_module": "@jupyter-widgets/base",
            "_view_module_version": "1.2.0",
            "_view_name": "StyleView",
            "description_width": ""
          }
        },
        "fac8697c7bde41a9a2aa44372ebf3f9e": {
          "model_module": "@jupyter-widgets/controls",
          "model_name": "HBoxModel",
          "model_module_version": "1.5.0",
          "state": {
            "_dom_classes": [],
            "_model_module": "@jupyter-widgets/controls",
            "_model_module_version": "1.5.0",
            "_model_name": "HBoxModel",
            "_view_count": null,
            "_view_module": "@jupyter-widgets/controls",
            "_view_module_version": "1.5.0",
            "_view_name": "HBoxView",
            "box_style": "",
            "children": [
              "IPY_MODEL_e76cc141091f4256bb16eba8cec49339",
              "IPY_MODEL_dcac27fe4de245f1a485859d8ac9e4a1",
              "IPY_MODEL_973e2ca90b3e438a9e27684c2cb95009"
            ],
            "layout": "IPY_MODEL_fbfc1532387f4c2cad6056ead8270502"
          }
        },
        "e76cc141091f4256bb16eba8cec49339": {
          "model_module": "@jupyter-widgets/controls",
          "model_name": "HTMLModel",
          "model_module_version": "1.5.0",
          "state": {
            "_dom_classes": [],
            "_model_module": "@jupyter-widgets/controls",
            "_model_module_version": "1.5.0",
            "_model_name": "HTMLModel",
            "_view_count": null,
            "_view_module": "@jupyter-widgets/controls",
            "_view_module_version": "1.5.0",
            "_view_name": "HTMLView",
            "description": "",
            "description_tooltip": null,
            "layout": "IPY_MODEL_42961d034b1845dd87462b062ff660a0",
            "placeholder": "​",
            "style": "IPY_MODEL_b489b3ecc0a840f8ab57fc342d8c2299",
            "value": "config.json: 100%"
          }
        },
        "dcac27fe4de245f1a485859d8ac9e4a1": {
          "model_module": "@jupyter-widgets/controls",
          "model_name": "FloatProgressModel",
          "model_module_version": "1.5.0",
          "state": {
            "_dom_classes": [],
            "_model_module": "@jupyter-widgets/controls",
            "_model_module_version": "1.5.0",
            "_model_name": "FloatProgressModel",
            "_view_count": null,
            "_view_module": "@jupyter-widgets/controls",
            "_view_module_version": "1.5.0",
            "_view_name": "ProgressView",
            "bar_style": "success",
            "description": "",
            "description_tooltip": null,
            "layout": "IPY_MODEL_5b9b3b8f244c49a1a68c79fab4ee71a1",
            "max": 570,
            "min": 0,
            "orientation": "horizontal",
            "style": "IPY_MODEL_f45c16b76be54b21923b1d4146685fd7",
            "value": 570
          }
        },
        "973e2ca90b3e438a9e27684c2cb95009": {
          "model_module": "@jupyter-widgets/controls",
          "model_name": "HTMLModel",
          "model_module_version": "1.5.0",
          "state": {
            "_dom_classes": [],
            "_model_module": "@jupyter-widgets/controls",
            "_model_module_version": "1.5.0",
            "_model_name": "HTMLModel",
            "_view_count": null,
            "_view_module": "@jupyter-widgets/controls",
            "_view_module_version": "1.5.0",
            "_view_name": "HTMLView",
            "description": "",
            "description_tooltip": null,
            "layout": "IPY_MODEL_460809dcbcb841b9b9c9f1b4c52dec8a",
            "placeholder": "​",
            "style": "IPY_MODEL_c05e06104406486483a852d6ea5f5627",
            "value": " 570/570 [00:00&lt;00:00, 5.51kB/s]"
          }
        },
        "fbfc1532387f4c2cad6056ead8270502": {
          "model_module": "@jupyter-widgets/base",
          "model_name": "LayoutModel",
          "model_module_version": "1.2.0",
          "state": {
            "_model_module": "@jupyter-widgets/base",
            "_model_module_version": "1.2.0",
            "_model_name": "LayoutModel",
            "_view_count": null,
            "_view_module": "@jupyter-widgets/base",
            "_view_module_version": "1.2.0",
            "_view_name": "LayoutView",
            "align_content": null,
            "align_items": null,
            "align_self": null,
            "border": null,
            "bottom": null,
            "display": null,
            "flex": null,
            "flex_flow": null,
            "grid_area": null,
            "grid_auto_columns": null,
            "grid_auto_flow": null,
            "grid_auto_rows": null,
            "grid_column": null,
            "grid_gap": null,
            "grid_row": null,
            "grid_template_areas": null,
            "grid_template_columns": null,
            "grid_template_rows": null,
            "height": null,
            "justify_content": null,
            "justify_items": null,
            "left": null,
            "margin": null,
            "max_height": null,
            "max_width": null,
            "min_height": null,
            "min_width": null,
            "object_fit": null,
            "object_position": null,
            "order": null,
            "overflow": null,
            "overflow_x": null,
            "overflow_y": null,
            "padding": null,
            "right": null,
            "top": null,
            "visibility": null,
            "width": null
          }
        },
        "42961d034b1845dd87462b062ff660a0": {
          "model_module": "@jupyter-widgets/base",
          "model_name": "LayoutModel",
          "model_module_version": "1.2.0",
          "state": {
            "_model_module": "@jupyter-widgets/base",
            "_model_module_version": "1.2.0",
            "_model_name": "LayoutModel",
            "_view_count": null,
            "_view_module": "@jupyter-widgets/base",
            "_view_module_version": "1.2.0",
            "_view_name": "LayoutView",
            "align_content": null,
            "align_items": null,
            "align_self": null,
            "border": null,
            "bottom": null,
            "display": null,
            "flex": null,
            "flex_flow": null,
            "grid_area": null,
            "grid_auto_columns": null,
            "grid_auto_flow": null,
            "grid_auto_rows": null,
            "grid_column": null,
            "grid_gap": null,
            "grid_row": null,
            "grid_template_areas": null,
            "grid_template_columns": null,
            "grid_template_rows": null,
            "height": null,
            "justify_content": null,
            "justify_items": null,
            "left": null,
            "margin": null,
            "max_height": null,
            "max_width": null,
            "min_height": null,
            "min_width": null,
            "object_fit": null,
            "object_position": null,
            "order": null,
            "overflow": null,
            "overflow_x": null,
            "overflow_y": null,
            "padding": null,
            "right": null,
            "top": null,
            "visibility": null,
            "width": null
          }
        },
        "b489b3ecc0a840f8ab57fc342d8c2299": {
          "model_module": "@jupyter-widgets/controls",
          "model_name": "DescriptionStyleModel",
          "model_module_version": "1.5.0",
          "state": {
            "_model_module": "@jupyter-widgets/controls",
            "_model_module_version": "1.5.0",
            "_model_name": "DescriptionStyleModel",
            "_view_count": null,
            "_view_module": "@jupyter-widgets/base",
            "_view_module_version": "1.2.0",
            "_view_name": "StyleView",
            "description_width": ""
          }
        },
        "5b9b3b8f244c49a1a68c79fab4ee71a1": {
          "model_module": "@jupyter-widgets/base",
          "model_name": "LayoutModel",
          "model_module_version": "1.2.0",
          "state": {
            "_model_module": "@jupyter-widgets/base",
            "_model_module_version": "1.2.0",
            "_model_name": "LayoutModel",
            "_view_count": null,
            "_view_module": "@jupyter-widgets/base",
            "_view_module_version": "1.2.0",
            "_view_name": "LayoutView",
            "align_content": null,
            "align_items": null,
            "align_self": null,
            "border": null,
            "bottom": null,
            "display": null,
            "flex": null,
            "flex_flow": null,
            "grid_area": null,
            "grid_auto_columns": null,
            "grid_auto_flow": null,
            "grid_auto_rows": null,
            "grid_column": null,
            "grid_gap": null,
            "grid_row": null,
            "grid_template_areas": null,
            "grid_template_columns": null,
            "grid_template_rows": null,
            "height": null,
            "justify_content": null,
            "justify_items": null,
            "left": null,
            "margin": null,
            "max_height": null,
            "max_width": null,
            "min_height": null,
            "min_width": null,
            "object_fit": null,
            "object_position": null,
            "order": null,
            "overflow": null,
            "overflow_x": null,
            "overflow_y": null,
            "padding": null,
            "right": null,
            "top": null,
            "visibility": null,
            "width": null
          }
        },
        "f45c16b76be54b21923b1d4146685fd7": {
          "model_module": "@jupyter-widgets/controls",
          "model_name": "ProgressStyleModel",
          "model_module_version": "1.5.0",
          "state": {
            "_model_module": "@jupyter-widgets/controls",
            "_model_module_version": "1.5.0",
            "_model_name": "ProgressStyleModel",
            "_view_count": null,
            "_view_module": "@jupyter-widgets/base",
            "_view_module_version": "1.2.0",
            "_view_name": "StyleView",
            "bar_color": null,
            "description_width": ""
          }
        },
        "460809dcbcb841b9b9c9f1b4c52dec8a": {
          "model_module": "@jupyter-widgets/base",
          "model_name": "LayoutModel",
          "model_module_version": "1.2.0",
          "state": {
            "_model_module": "@jupyter-widgets/base",
            "_model_module_version": "1.2.0",
            "_model_name": "LayoutModel",
            "_view_count": null,
            "_view_module": "@jupyter-widgets/base",
            "_view_module_version": "1.2.0",
            "_view_name": "LayoutView",
            "align_content": null,
            "align_items": null,
            "align_self": null,
            "border": null,
            "bottom": null,
            "display": null,
            "flex": null,
            "flex_flow": null,
            "grid_area": null,
            "grid_auto_columns": null,
            "grid_auto_flow": null,
            "grid_auto_rows": null,
            "grid_column": null,
            "grid_gap": null,
            "grid_row": null,
            "grid_template_areas": null,
            "grid_template_columns": null,
            "grid_template_rows": null,
            "height": null,
            "justify_content": null,
            "justify_items": null,
            "left": null,
            "margin": null,
            "max_height": null,
            "max_width": null,
            "min_height": null,
            "min_width": null,
            "object_fit": null,
            "object_position": null,
            "order": null,
            "overflow": null,
            "overflow_x": null,
            "overflow_y": null,
            "padding": null,
            "right": null,
            "top": null,
            "visibility": null,
            "width": null
          }
        },
        "c05e06104406486483a852d6ea5f5627": {
          "model_module": "@jupyter-widgets/controls",
          "model_name": "DescriptionStyleModel",
          "model_module_version": "1.5.0",
          "state": {
            "_model_module": "@jupyter-widgets/controls",
            "_model_module_version": "1.5.0",
            "_model_name": "DescriptionStyleModel",
            "_view_count": null,
            "_view_module": "@jupyter-widgets/base",
            "_view_module_version": "1.2.0",
            "_view_name": "StyleView",
            "description_width": ""
          }
        }
      }
    }
  },
  "nbformat": 4,
  "nbformat_minor": 0
}